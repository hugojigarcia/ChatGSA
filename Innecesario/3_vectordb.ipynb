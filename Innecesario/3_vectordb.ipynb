{
 "cells": [
  {
   "cell_type": "code",
   "execution_count": 76,
   "metadata": {},
   "outputs": [],
   "source": [
    "# input_path = \"documentacion/1. Estatutos (2022).md\"\n",
    "# input_path = \"documentacion/2. Programa Educativo de Grupo 2022 - 2025.md\"\n",
    "# input_path = \"documentacion/3. Reglamento de Regimen Interno (2023).md\"\n",
    "input_path = \"documentacion/4. Normas de Organización y Funcionamiento (2023).md\"\n",
    "output_path = \"vector_db\""
   ]
  },
  {
   "cell_type": "code",
   "execution_count": 77,
   "metadata": {},
   "outputs": [],
   "source": [
    "from transformers import AutoTokenizer, AutoModelForCausalLM, pipeline"
   ]
  },
  {
   "cell_type": "code",
   "execution_count": 78,
   "metadata": {},
   "outputs": [],
   "source": [
    "import torch\n",
    "\n",
    "device = \"cuda\" if torch.cuda.is_available() else \"cpu\""
   ]
  },
  {
   "cell_type": "code",
   "execution_count": 79,
   "metadata": {},
   "outputs": [],
   "source": [
    "import os\n",
    "import openai\n",
    "import sys\n",
    "sys.path.append('../..')\n",
    "\n",
    "from dotenv import load_dotenv, find_dotenv\n",
    "_ = load_dotenv(find_dotenv()) # read local .env file\n",
    "\n",
    "openai.api_key  = os.environ['OPENAI_API_KEY']"
   ]
  },
  {
   "cell_type": "markdown",
   "metadata": {},
   "source": [
    "## MARKDOWN LOADER"
   ]
  },
  {
   "cell_type": "code",
   "execution_count": 80,
   "metadata": {},
   "outputs": [
    {
     "data": {
      "text/plain": [
       "'# 4. Normas de Organización y Funcionamiento (2023)\\n\\n## CAPÍTULO I. DISPOSICIONES GENERALES ÍNDICE\\n\\n### SECCIÓN PRIMERA. ÁMBITO DE APLICACIÓN DEL REGLAMENTO.\\n\\n#### Artículo 1.- Presentación\\n\\n```\\nLa Asociación Grupo Scout Annapurna (GSA), en adelante “el Grupo”,\\nconstituida al amparo de la legislación vigente se regirá por los Estatutos de la\\nAsociación, por el Reglamento de Régimen Interno y por el presente\\ndocumento de Normas de Organización y Funcionamiento.\\n```\\n#### Artículo 2.- Funcionamiento\\n\\n```\\nEl presente documento de Normas de Organización y Funcionamiento\\ndesarrolla los contenidos expresados en los Estatutos de la Asociación y del\\nReglamento de Régimen Interno y en ningún caso podrá ir contra la filosofía y\\nartículos de los citados.\\n```\\n#### Artículo 3.- Uso\\n\\n```\\nEl presente Reglamento tiene carácter obligatorio para personas socias,\\npersonas beneficiarias, familias, personas monitoras, personas educandas,\\nantiguas personas pertenecientes al Grupo, la Junta Directiva y personas\\ncolaboradoras, implicadas en el cumplimiento de los objetivos del Grupo.\\n```\\n\\n```\\nAsociación Grupo Scout Annapurna GSA\\nActualizado 2023\\nAnnapurna 722\\n```\\n### SECCIÓN SEGUNDA. NORMAS GENERALES.\\n\\n#### Artículo 4.- Introducción\\n\\n```\\nLa participación en los diferentes servicios conlleva implícito asumir las\\npresentes normas, que tienen como finalidad el buen funcionamiento del Grupo\\nasí como garantizar la buena convivencia de cuantas personas participen en\\nlas actividades del mismo.\\n```\\n#### Artículo 5.- Ley Scout.............................................................................................................\\n\\n```\\nLa Ley Scout es un instrumento educativo a través del que se exponen los\\nprincipios y valores del Escultismo. Estos principios se agrupan en diez\\nartículos, explicados en el Programa Educativo de Grupo (PEG):\\n```\\n```\\nEl/la Scout:\\n```\\n_1. Cifra su honor en ser digno/a de confianza._\\n    Una persona que es veraz y honrado/a, tiene una sola palabra, sabe lo\\n    que es y lo que hace, es digna de confianza.\\n_2. Es leal._\\n    Descubre el país en que vive, y es leal con su gente, empezando por\\n    las personas que lo rodean, es responsable con lo que se compromete\\n    y consecuente con lo que piensa, vive sus valores y respeta las\\n    convicciones de los demás.\\n_3. Es útil y servicial._\\n    Es servicial y se esfuerza por implantar la justicia, es útil y ayuda a\\n    construir un mundo mejor. Es competente. Tiene asumido que todas las\\n    personas se necesitan, unas a otras.\\n\\n\\nAsociación Grupo Scout Annapurna GSA\\nActualizado 2023\\nAnnapurna 722\\n\\n_4. Es amigo/a de todos/as y hermano/a de cualquier otro/a scout._\\n    Es solidario/a con las personas, las respeta y es especialmente un/a\\n    hermano/a para los/as demás Scouts. Comienza y mantiene la amistad.\\n_5. Es cortés y educado/a._\\n    Es respetuoso/a y educado/a con las demás personas, lleva un estilo\\n    de vida acorde con su dignidad, es amable, respeta a las personas con\\n    las que comparte el mundo.\\n_6. Ama y protege la Naturaleza._\\n    Aprecia, respeta y protege la Naturaleza y colabora en la defensa del\\n    Medio Ambiente.\\n_7. Es responsable y no hace nada a medias._\\n    Es responsable de sus actos y colabora y se compromete con su equipo\\n    o comunidad para llevar a cabo los proyectos comenzados; vive en\\n    grupo y no hace las cosas a medias. Asume responsabilidades y va\\n    hasta el final con el objetivo trazado.\\n_8. Es animoso/a ante peligros y dificultades._\\n    Afronta las dificultades con alegría y positivismo, ve en las dificultades\\n    que se le presentan oportunidades de trabajo y mejora.\\n_9. Es trabajador/a, austero/a y respeta el bien ajeno._\\n    Es una persona prudente y responsable de sus recursos, trabajadora y\\n    cuidadosa de los bienes, austera, se preocupa del bien común y\\n    aprovecha sus talentos, procurando que estén al servicio de las\\n    personas\\n_10. Es limpio/a y sano/a; puro en sus pensamientos, palabras y acciones._\\n\\n\\n```\\nAsociación Grupo Scout Annapurna GSA\\nActualizado 2023\\nAnnapurna 722\\n```\\n```\\nEs persona transparente y sincera, teniendo una conducta limpia y\\nclara, es sana, es limpia por dentro y por fuera, respetando su integridad\\ny la de las demás.\\n```\\n#### Artículo 6.- Normas comunes\\n\\n```\\nSe establecen como normas comunes:\\n```\\n```\\n6.1.- Las personas pertenecientes al Grupo deben utilizar los distintivos de\\neste solo para actos o circunstancias que promuevan y mejoren el buen\\nnombre y la trayectoria del Grupo y del Movimiento Scout en general.\\n```\\n```\\n6.2.- Se deben cumplir los Estatutos, Reglamento de Régimen Interno y\\nNormas de Organización y Funcionamiento.\\n```\\n#### Artículo 7- Normas de convivencia y comportamiento.\\n\\n```\\nLas siguientes normas son relativas a las relaciones entre las personas que\\nconforman el Grupo:\\n```\\n```\\n7.1.- Mantener siempre una actitud de respeto y consideración hacia otras\\npersonas educandas, familias, personas colaboradoras, personas\\nantiguas socias, personas monitoras y otras personas participantes en\\nlas actividades, evitando cualquier tipo de agresión, insulto o\\nhumillación.\\n```\\n```\\n7.2.- Tratar a todas las personas participantes en el Grupo, dentro o fuera de\\nél, con igualdad y respeto, independientemente de su origen, género,\\ncondición física o mental, orientación sexual, identidad de género,\\ncapacidades o creencias espirituales.\\n```\\n\\n```\\nAsociación Grupo Scout Annapurna GSA\\nActualizado 2023\\nAnnapurna 722\\n```\\n```\\n7.3.- Promover, practicar y demostrar actitudes que estén en línea con los\\nvalores del escultismo y los derechos humanos.\\n```\\n```\\n7.4.- Se debe respetar y promover la integridad física y mental propia y ajena.\\n```\\n```\\n7.5.- Tener un comportamiento deferente hacia la normativa del Grupo y a\\n```\\nlas personas participantes de las actividades.^\\n\\n```\\n7.6.- Respetar las pertenencias ajenas a la propiedad de cada individuo.\\n```\\n```\\n7.7.- Se debe respetar la propiedad de cada individuo y no tomar objetos que\\nno sean propios.\\n```\\n```\\n7.8.- Mantener un lenguaje adecuado adaptando los temas de conversación\\ny expresiones al entorno en el que se encuentren.\\n```\\n```\\n7.9.- Priorizar el diálogo como solución a los conflictos y situaciones que se\\nplanteen.\\n```\\n```\\n7.10.- Las relaciones sexoafectivas quedan restringidas en las actividades:\\na. Las personas educandas podrán tener relaciones sexoafectivas\\nconsentidas entre ellas siempre y cuando entre dentro de la\\nlegalidad vigente en el Código Penal.\\nb. No podrán existir relaciones entre personas monitoras o\\ncolaboradoras y personas educandas para evitar perpetuar el\\naprovechamiento de cualquiera de las partes por la relación de\\npoder entre ellas. A excepción de:\\ni. Relaciones que hubieran empezado en la misma\\nsituación de personas educandas antes de que una de\\nellas se convirtiera en monitora o colaboradora.\\nii. Relaciones entre personas que hayan empezado antes\\nde que una o las dos personas hayan entrado al Grupo.\\n```\\n\\n```\\nAsociación Grupo Scout Annapurna GSA\\nActualizado 2023\\nAnnapurna 722\\n```\\n```\\nc. Todas las relaciones interpersonales sexoafectivas se\\nmantendrán siempre de manera consensuada, reservada y\\nsegura.\\n```\\n#### Artículo 8.- Normas del entorno físico\\n\\n```\\nLas siguientes normas son relativas al espacio físico en el que se realizan las\\nactividades, así como el material que se utiliza en ellas:\\n```\\n```\\n8.1.- Respeto y buen uso del material e instalaciones.\\n8.2.- Respetar el entorno, el barrio y a las personas que en él residen.\\n```\\n#### Artículo 9.- Normas del desarrollo de las actividades\\n\\n```\\nLas siguientes normas son relativas a las actividades y a su buen desarrollo.\\n```\\n```\\n9.1.- Participación en las actividades que se propongan.\\n```\\n```\\n9.2.- Aceptar las consignas del equipo de Kraal, ya que velan por la\\nseguridad de todas las personas participantes en ellas y por el buen\\nfuncionamiento del Grupo.\\n```\\n9.3.-^ Asistencia puntual^ a las actividades.^\\n9.4.- Acudir a las actividades con el aseo debido.\\n\\n#### Artículo 10.- Normas de consumo.......................................................................................\\n\\n```\\nLas siguientes normas son relativas al consumo de las personas participantes\\nen las actividades:\\n```\\n\\n```\\nAsociación Grupo Scout Annapurna GSA\\nActualizado 2023\\nAnnapurna 722\\n```\\n```\\n10.1.- Las personas pueden disfrutar de sus comidas siempre que esté\\nprogramado en la actividad o cuando el Kraal lo autorice, fomentando\\nasí un ambiente de respeto y orden.\\n```\\n```\\n10.2.- Se promueve un ambiente saludable y seguro durante las actividades,\\nreuniones o Asambleas, por lo que se insta a abstenerse de consumir\\nalcohol y cualquier tipo de drogas.\\n```\\n```\\n10.3.- Acudir a las actividades bajo los efectos de alguna sustancia será causa\\n```\\npara no poder acceder ni participar en las actividades programadas.^\\n\\n```\\n10.4.- El consumo de tabaco queda restringido en las actividades:\\na. Las personas jóvenes menores de edad, pero mayores de 16\\naños podrán consumir tabaco siempre y cuando sus\\nresponsables legales lo consientan hablando con el Kraal y\\nentregando una autorización. Deberán hacerlo de manera\\nindividual acompañados/as de un/a responsable avisando a sus\\nmonitores/as en el momento que quieran hacerlo. Serán las\\npersonas responsables quienes guarden el tabaco hasta el\\nmomento de su uso en las actividades con pernocta. En ningún\\ncaso se le comprará el tabaco a la persona educanda, debiendo\\ntraerlo previamente en caso de ser autorizado.\\nb. Las personas jóvenes mayores de edad (18 años) podrán fumar\\ntabaco siempre y cuando avisen a sus responsables en el\\nmomento que quieran hacerlo. Deberán hacerlo de manera\\nindividual acompañadas de una persona responsable avisando\\na sus monitoras en el momento que quieran hacerlo. Serán las\\nresponsables quienes guarden el tabaco hasta el momento de\\nsu uso en las actividades con pernocta. En ningún caso se le\\ncomprará el tabaco a la persona educanda, debiendo traerlo\\npreviamente en caso de ser autorizado.\\nc. Las personas monitoras, colaboradoras y antiguas socias\\npodrán fumar tabaco bajo su propia responsabilidad.\\n```\\n\\n```\\nAsociación Grupo Scout Annapurna GSA\\nActualizado 2023\\nAnnapurna 722\\n```\\n```\\nd. Todos los anteriores, deberán hacerlo en un lugar apartado del\\nresto en momentos en los que no interrumpan el transcurso de\\nlas actividades.\\n```\\n```\\n10.5.- El uso de teléfonos móviles y dispositivos electrónicos queda restringido\\ndurante las actividades:\\na. Las personas educandas no podrán hacer uso de sus teléfonos\\ndurante el desarrollo de las actividades. Podrán hacerlo si su\\nKraalete o el Kraal lo consienten en situaciones puntuales o si el\\nuso está justificado como parte de la programación de la\\nactividad priorizando su no uso. Serán las personas\\nresponsables quienes guarden los teléfonos móviles de las\\npersonas educandas en las actividades con pernocta, con la\\nexcepción de que se les entregará a quienes necesiten\\nutilizarlos en los momentos anteriormente explicados.\\nb. Las personas monitoras, colaboradoras y antiguas socias\\ndeberán utilizar sus teléfonos móviles solo en situaciones\\npuntuales, minimizando su uso lo máximo posible. Estas\\ndeberán abstenerse de utilizar sus redes sociales personales\\ndurante las actividades.\\nc. Asimismo, todas las imágenes y vídeos que se tomen durante\\nlas actividades deberán pasar por el cargo de Secretaría para\\nque este se pueda asegurar de que no aparecen personas que\\nno han cedido sus derechos de imagen o en contra de la\\nlegislación vigente, antes de distribuirlas o subirlas a cualquier\\nred social de grupo.\\nd. En ningún caso se podrá subir fotos en las que aparezcan\\npersonas educandas a las redes sociales personales de cada\\npersona monitora, colaboradora o antigua. Excepcionalmente,\\nse podrá resubir publicaciones previamente subidas por el grupo\\n```\\na sus redes sociales.^\\n\\n\\nAsociación Grupo Scout Annapurna GSA\\nActualizado 2023\\nAnnapurna 722\\n\\n```\\n10.6.- El consumo de medicamentos queda restringido durante las\\nactividades:\\na. No está permitido portar ni tomar medicamentos por cuenta\\npropia de las personas educandas sin supervisión y\\nadministración del Kraal. Asimismo, en caso de tener que seguir\\nun tratamiento determinado (puntual o continuo) este deberá ser\\nsupervisado por las personas responsables, quienes lo\\nguardarán en las actividades que se requiera. Como excepción,\\nlas jóvenes mayores de edad podrían guardar su propia\\nmedicación previo acuerdo con su Kraal.\\nb. Todo medicamento que deban tomar las personas educandas\\ndeberá ir acompañado de un justificante, posología o\\ninstrucciones de administración que se deberá entregar a las\\npersonas responsables.\\nc. No se suministrará, en ningún caso, medicamentos si no se\\nculpa el punto b. de esta norma.\\n```\\n\\n```\\nAsociación Grupo Scout Annapurna GSA\\nActualizado 2023\\nAnnapurna 722\\n```\\n### SECCIÓN TERCERA. NORMAS ESPECIFICAS\\n\\n#### Artículo 11.- Introducción\\n\\n```\\nEl siguiente conjunto de normas está delimitado por las condiciones que se le\\napliquen, que estarán especificadas en el artículo que las contenga. Estas\\nnormas son de obligado cumplimiento para las personas y situaciones a las que\\nse apliquen.\\n```\\n#### Artículo 12.- Normas de las personas educandas\\n\\n```\\nLas siguientes normas se aplican a las personas educandas, es decir, a\\nquienes participan en las actividades en calidad de chavales/as:\\n```\\n```\\n12.1.- Sobre el transporte privado que requiera un carné previo:\\na. Las personas educandas no podrán acudir a las actividades en\\ntransporte privado siendo ellas quienes conduzcan, a no ser que\\nexistieran razones de causa mayor, con previa autorización del\\nequipo de Kraal.\\nb. Siempre y cuando la familia esté informada y dé su\\nconsentimiento de que la persona socia educanda pueda\\ntransportarse en un vehículo privado, esta podrá ir y volver de\\nlas actividades en este tipo de transporte.\\n```\\n```\\n12.2.- No ausentarse de las actividades en las que participan sin aviso\\n```\\nprevio a la persona responsable.^\\n\\n```\\n12.3.- Deberán entregar al equipo de Kraal la documentación necesaria en\\nregla.\\n```\\n```\\n12.4.- Serán responsables de sus propias pertenencias y en caso de\\npérdida de alguna de estas, el Grupo no se hace responsable.\\n```\\n\\n```\\nAsociación Grupo Scout Annapurna GSA\\nActualizado 2023\\nAnnapurna 722\\n```\\n```\\n12.5.- Deberán abonar las cuotas mensuales, a excepción de las personas\\nque estén exentas de ello por motivos personales.\\n```\\n#### Artículo 13.- Normas de las personas educadoras\\n\\n```\\nLas siguientes normas son específicas del equipo de monitores/as del Grupo:\\n```\\n```\\n13.1.- Deberán de acudir a las reuniones de Kraal, estando exentas aquellas\\n```\\npersonas que dispongan de un motivo justificable.^\\n\\n```\\n13.2.- Deberán actuar a modo de ejemplo de cara a las personas socias\\neducandas.\\n```\\n```\\n13.3.- Deberán actuar de manera responsable hacia las personas\\neducandas, hacia el resto del equipo y hacia el Grupo.\\n```\\n```\\n13.4.- Deberán de atenerse al protocolo de actuación médica descrita en las\\n```\\nfichas de inscripción a actividades.^\\n\\n```\\n13.5.- Deberán de mantener una actitud respetuosa frente a las familias de\\nlas personas socias educandas.\\n```\\n```\\n13.6.- Deberán de reaccionar ante las personas socias educandas de una\\nforma ecuánime.\\n```\\n```\\n13.7.- Deberán encargarse de que se cumpla la normativa del Grupo.\\n```\\n```\\n13.8.- Deberán participar de manera activa en las responsabilidades que les\\n```\\nconciernen.^\\n\\n```\\n13.9.- Deberán ser conscientes de sus responsabilidades específicas en los\\nCampamentos (turnos de tiempo libre y cocina).\\n```\\n```\\n13.10.- Deberán disponer de la documentación necesaria en regla.\\n```\\n\\n```\\nAsociación Grupo Scout Annapurna GSA\\nActualizado 2023\\nAnnapurna 722\\n```\\n#### Artículo 14.- Normas de las personas colaboradoras\\n\\n```\\nLas siguientes normas son específicas para las personas que vengan a\\ncolaborar con el Grupo.\\n```\\n```\\n14.1.- Una vez en el Campamento, dejan de ser responsables de sus\\njóvenes. Si hubiera un problema con la persona educanda, se\\ndeberán poner en contacto con su Kraalete para poder resolverlo,\\nnunca tomando acciones por su propia cuenta.\\n```\\n```\\n14.2.- Quienes asistan a los Campamentos tendrán el trabajo ya\\norganizado por el cargo de Crecimiento e Intendencia de\\nCampamentos. En lo referente al menú, se les facilitará antes del\\nCampamento y se les invitará a venir a comprar. Es importante\\nrespetar el trabajo realizado y si hubiera que hacer alguna mejora\\no cambio, antes habrá que hablarlo con el equipo de Kraal.\\n```\\n```\\n14.3.- Sus horarios se regirán por la premisa de que la comida y la cena\\nestén a tiempo. Si se viera que no se llega a tiempo, se puede pedir\\nayuda al equipo de Kraal. A pesar de que tengan flexibilidad en sus\\nhorarios, deberán estar pendientes de sus responsabilidades y\\nestar accesibles en caso de que el equipo de Kraal quisiera\\n```\\ncontactar con ellas.^\\n\\n```\\n14.4.- No limpian el menaje una vez acaben la comida, sólo deben dejarlo\\na remojo si se creyera necesario.\\n```\\n```\\n14.5.- No sirven la merienda ni la preparan, siendo el equipo de Kraal\\nresponsables de esto y de su recogida y limpieza.\\n```\\n```\\n14.6.- Durante el campamento existirán “cargos”. El Kraal los adjudicará,\\nsiendo estos: pinche, jefe/a de pinches y persona conductoras. Es\\nimportante respetar estos cargos ya que se ponen con un orden\\nlógico (experiencia en otros campamentos y cualidades\\npersonales).\\n```\\n\\n```\\nAsociación Grupo Scout Annapurna GSA\\nActualizado 2023\\nAnnapurna 722\\n```\\n```\\n14.7.- Deben venir a las reuniones de Kraal de Campamentos, al menos\\nuna persona colaboradora para evaluar el día y programar el\\nsiguiente.\\n```\\n14.8.-^ Deberán cumplir las normas del Campamento.^\\n\\n```\\n14.9.- Deberán disponer de la documentación necesaria en regla.\\n```\\n```\\n14.10.- Podrán participar en las actividades del Grupo siempre que sus\\nobligaciones no les retengan y pidiendo permiso al equipo de\\nresponsables.\\n```\\n#### Artículo 15.- Normas de las personas antiguas de Grupo\\n\\n```\\nLas siguientes normas son específicas para las personas que han dejado de\\npertenecer al Grupo, pero siguen participando en actividades de este.\\n```\\n```\\n15.1.- Podrán acudir a actividades de Grupo como Reuniones, Buenos Días\\ny Campamentos (Juego de Grupo, Ceremonias, Pasos, Día de\\nFamilias o días sueltos) en calidad de personas antiguas. Su\\nasistencia, medio de transporte, día y hora de llegada y salida,\\nalojamiento, necesidades especiales, comidas en las que\\nparticiparán, alergias y dietas, debe comunicarse antes de la reunión\\nde Kraal previa al campamento que corresponda. En caso de querer\\nser acompañadas por personas ajenas al Grupo o animales, deberán\\n```\\nconsultarlo previamente con el equipo de Kraal.^\\n\\n```\\n15.2.- Dentro de los Campamentos en los que participen:\\na. Deberán cumplir las normas y horarios del Campamento.\\nb. Deberán disponer de la documentación necesaria en regla.\\n```\\n\\n```\\nAsociación Grupo Scout Annapurna GSA\\nActualizado 2023\\nAnnapurna 722\\n```\\n#### Artículo 16.- Normas de actividades con pernocta\\n\\n```\\nLas siguientes normas se aplican en los Campamentos, de Navidad, Semana\\nSanta y Verano y en las acampadas de Sección.\\n```\\n```\\n16.1.- Durante todas las actividades con pernocta existen una serie de normas\\na cumplir por todas las personas educandas. Dentro de cada una de\\nestas actividades, el equipo de Kraal puede incluir más normas que\\nvieran necesarias para el espacio o la convivencia (como, por ejemplo,\\nprohibido subirse a las rocas).\\na. Disfrutar del campamento sin la necesidad de aparatos\\nelectrónicos.\\nb. Permanecer dentro del recinto.\\nc. Comerse todo lo del plato.\\nd. Respetar al Kraal, al resto de las personas participantes y\\ncolaboradoras.\\ne. Cumplir los horarios siendo consecuentes con la vida del\\ncampamento.\\nf. Respetar los espacios de la cocina, despensa, sala de Kraal y\\nsala de Intendencia con la previa autorización del Kraal.\\ng. Las habitaciones/tiendas son solo para descansar.\\n```\\n```\\n16.2.- Para los Campamentos existen unas normas específicas que todas las\\npersonas socias educandas deben cumplir:\\na. Deberán respetar los turnos de servicio de comida en\\ndesayunos, comidas y cenas.\\nb. Deberán de mantener las normas mínimas de educación\\ndurante los desayunos, comidas y cenas. Estas son:\\ni. Permanecer en el asiento a excepción de que vayan a\\nser servidas, vayan a fregar sus platos o tengan permiso\\ndel Kraal.\\nii. Ir andando para ser servidos la comida.\\n```\\n\\nAsociación Grupo Scout Annapurna GSA\\nActualizado 2023\\nAnnapurna 722\\n\\n```\\niii. No podrán lanzar comida o agua a otras personas.\\niv. Deberán comer toda la comida que se les sirva, a no ser\\nque el Kraal que esté supervisando su comida diga lo\\ncontrario.\\nv. Ir a repetir en su turno exclusivamente si se ha terminado\\ntodo lo del plato, a no ser que no hayan tenido tiempo de\\nterminar su comida.\\nvi. Se mantendrá un mínimo nivel de limpieza en cada\\nmesa, siendo responsable cada persona de la suciedad\\nde su espacio.\\nvii. Llevar el torso cubierto a las comidas, a no ser que\\nexistan razones de causa mayor.\\nviii. Sobre las canciones y consignas durante las comidas:\\no Se mantendrá un nivel medio de ruido que no\\ninterfiera con el buen funcionamiento de las\\ncomidas. Se respetarán los momentos en los que\\nel equipo de Kraal tiene que hablar (servir, avisos,\\netc.) y no se cantará o hará ruido durante estos.\\no Se controlarán los golpes en las superficies\\ndurante las canciones, respetando el material\\npersonal y ajeno.\\n```\\n\\nAsociación Grupo Scout Annapurna GSA\\nActualizado 2023\\nAnnapurna 722\\n\\n\\n```\\nAsociación Grupo Scout Annapurna GSA\\nActualizado 2023\\nAnnapurna 722\\n```\\n## DISPOSICIONES ADICIONALES\\n\\n### SECCIÓN PRIMERA. INTERPRETACIÓN DEL PRESENTE\\n\\n#### Artículo 17.- Interpretación y subsidiariedad de normas\\n\\n```\\n17.1.- La interpretación del presente documento de Normas de Organización\\ny Funcionamiento corresponde al Equipo de Kraal, pudiendo las\\npersonas socias adoptar interpretaciones provisionales cuando se\\nconsidere imprescindible hasta la siguiente reunión del Equipo de Kraal.\\n```\\n```\\n17.2.- Para los casos no previstos en las presentes Normas, se aplicarán las\\nresoluciones que el equipo de personas responsables considere en\\nreunión de Kraal.\\n```\\n```\\n17.3.- Estas Normas asimilan toda la normativa asociativa y federativa de\\n```\\nrango superior.^\\n\\n```\\n17.4.- La modificación total o parcial de las presentes Normas será\\ncompetencia del equipo de Kraal y la ratificación de la Asamblea de\\nGrupo.\\n```\\n\\nAsociación Grupo Scout Annapurna GSA\\nActualizado 2023\\nAnnapurna 722\\n\\n\\n```\\nAsociación Grupo Scout Annapurna GSA\\nActualizado 2023\\nAnnapurna 722\\n```\\n## DISPOSICIÓN DEROGATORIA\\n\\n### SECCIÓN PRIMERA. DEROGACIÓN DEL ANTERIOR\\n\\n#### Artículo 18.- Derogación del anterior..................................................................................\\n\\n```\\nEste documento de Normas de Organización y Funcionamiento deroga\\ncualquier documento de normas anterior del Grupo.\\n```\\n\\nAsociación Grupo Scout Annapurna GSA\\nActualizado 2023\\nAnnapurna 722\\n\\n\\n```\\nAsociación Grupo Scout Annapurna GSA\\nActualizado 2023\\nAnnapurna 722\\n```\\n## DISPOSICIÓN FINAL............................................................................................................\\n\\n### SECCIÓN PRIMERA. ENTRADA EN VIGOR Y REVISIÓN\\n\\n#### Artículo 19.- Entrada en vigor.\\n\\n```\\nEl presente documento de Normas de Organización y Funcionamiento entrará\\nen vigor a partir del día siguiente a su aprobación por la Asamblea General.\\n```\\n#### Artículo 20.- Revisión del documento\\n\\n```\\nEl presente documento de Normas de Organización y Funcionamiento se\\nrevisará cada 6 años como máximo.\\n```\\n\\n'"
      ]
     },
     "execution_count": 80,
     "metadata": {},
     "output_type": "execute_result"
    }
   ],
   "source": [
    "def read_md_file(file_path):\n",
    "    try:\n",
    "        with open(file_path, 'r', encoding='utf-8') as file:\n",
    "            md_content = file.read()\n",
    "        return md_content\n",
    "    except FileNotFoundError:\n",
    "        print(\"El archivo no fue encontrado.\")\n",
    "        return None\n",
    "\n",
    "# Ejemplo de uso\n",
    "md_string = read_md_file(input_path)\n",
    "md_string"
   ]
  },
  {
   "cell_type": "code",
   "execution_count": 81,
   "metadata": {},
   "outputs": [
    {
     "name": "stdout",
     "output_type": "stream",
     "text": [
      "{'source': '4. Normas de Organización y Funcionamiento (2023)', 'capitulo': 'CAPÍTULO I. DISPOSICIONES GENERALES ÍNDICE', 'seccion': 'SECCIÓN PRIMERA. ÁMBITO DE APLICACIÓN DEL REGLAMENTO.', 'articulo': 'Artículo 1.- Presentación'}\n",
      "{'source': '4. Normas de Organización y Funcionamiento (2023)', 'capitulo': 'CAPÍTULO I. DISPOSICIONES GENERALES ÍNDICE', 'seccion': 'SECCIÓN PRIMERA. ÁMBITO DE APLICACIÓN DEL REGLAMENTO.', 'articulo': 'Artículo 2.- Funcionamiento'}\n",
      "{'source': '4. Normas de Organización y Funcionamiento (2023)', 'capitulo': 'CAPÍTULO I. DISPOSICIONES GENERALES ÍNDICE', 'seccion': 'SECCIÓN PRIMERA. ÁMBITO DE APLICACIÓN DEL REGLAMENTO.', 'articulo': 'Artículo 3.- Uso'}\n",
      "{'source': '4. Normas de Organización y Funcionamiento (2023)', 'capitulo': 'CAPÍTULO I. DISPOSICIONES GENERALES ÍNDICE', 'seccion': 'SECCIÓN SEGUNDA. NORMAS GENERALES.', 'articulo': 'Artículo 4.- Introducción'}\n",
      "{'source': '4. Normas de Organización y Funcionamiento (2023)', 'capitulo': 'CAPÍTULO I. DISPOSICIONES GENERALES ÍNDICE', 'seccion': 'SECCIÓN SEGUNDA. NORMAS GENERALES.', 'articulo': 'Artículo 5.- Ley Scout.............................................................................................................'}\n",
      "{'source': '4. Normas de Organización y Funcionamiento (2023)', 'capitulo': 'CAPÍTULO I. DISPOSICIONES GENERALES ÍNDICE', 'seccion': 'SECCIÓN SEGUNDA. NORMAS GENERALES.', 'articulo': 'Artículo 6.- Normas comunes'}\n",
      "{'source': '4. Normas de Organización y Funcionamiento (2023)', 'capitulo': 'CAPÍTULO I. DISPOSICIONES GENERALES ÍNDICE', 'seccion': 'SECCIÓN SEGUNDA. NORMAS GENERALES.', 'articulo': 'Artículo 7- Normas de convivencia y comportamiento.'}\n",
      "{'source': '4. Normas de Organización y Funcionamiento (2023)', 'capitulo': 'CAPÍTULO I. DISPOSICIONES GENERALES ÍNDICE', 'seccion': 'SECCIÓN SEGUNDA. NORMAS GENERALES.', 'articulo': 'Artículo 8.- Normas del entorno físico'}\n",
      "{'source': '4. Normas de Organización y Funcionamiento (2023)', 'capitulo': 'CAPÍTULO I. DISPOSICIONES GENERALES ÍNDICE', 'seccion': 'SECCIÓN SEGUNDA. NORMAS GENERALES.', 'articulo': 'Artículo 9.- Normas del desarrollo de las actividades'}\n",
      "{'source': '4. Normas de Organización y Funcionamiento (2023)', 'capitulo': 'CAPÍTULO I. DISPOSICIONES GENERALES ÍNDICE', 'seccion': 'SECCIÓN SEGUNDA. NORMAS GENERALES.', 'articulo': 'Artículo 10.- Normas de consumo.......................................................................................'}\n",
      "{'source': '4. Normas de Organización y Funcionamiento (2023)', 'capitulo': 'CAPÍTULO I. DISPOSICIONES GENERALES ÍNDICE', 'seccion': 'SECCIÓN TERCERA. NORMAS ESPECIFICAS', 'articulo': 'Artículo 11.- Introducción'}\n",
      "{'source': '4. Normas de Organización y Funcionamiento (2023)', 'capitulo': 'CAPÍTULO I. DISPOSICIONES GENERALES ÍNDICE', 'seccion': 'SECCIÓN TERCERA. NORMAS ESPECIFICAS', 'articulo': 'Artículo 12.- Normas de las personas educandas'}\n",
      "{'source': '4. Normas de Organización y Funcionamiento (2023)', 'capitulo': 'CAPÍTULO I. DISPOSICIONES GENERALES ÍNDICE', 'seccion': 'SECCIÓN TERCERA. NORMAS ESPECIFICAS', 'articulo': 'Artículo 13.- Normas de las personas educadoras'}\n",
      "{'source': '4. Normas de Organización y Funcionamiento (2023)', 'capitulo': 'CAPÍTULO I. DISPOSICIONES GENERALES ÍNDICE', 'seccion': 'SECCIÓN TERCERA. NORMAS ESPECIFICAS', 'articulo': 'Artículo 14.- Normas de las personas colaboradoras'}\n",
      "{'source': '4. Normas de Organización y Funcionamiento (2023)', 'capitulo': 'CAPÍTULO I. DISPOSICIONES GENERALES ÍNDICE', 'seccion': 'SECCIÓN TERCERA. NORMAS ESPECIFICAS', 'articulo': 'Artículo 15.- Normas de las personas antiguas de Grupo'}\n",
      "{'source': '4. Normas de Organización y Funcionamiento (2023)', 'capitulo': 'CAPÍTULO I. DISPOSICIONES GENERALES ÍNDICE', 'seccion': 'SECCIÓN TERCERA. NORMAS ESPECIFICAS', 'articulo': 'Artículo 16.- Normas de actividades con pernocta'}\n",
      "{'source': '4. Normas de Organización y Funcionamiento (2023)', 'capitulo': 'DISPOSICIONES ADICIONALES', 'seccion': 'SECCIÓN PRIMERA. INTERPRETACIÓN DEL PRESENTE', 'articulo': 'Artículo 17.- Interpretación y subsidiariedad de normas'}\n",
      "{'source': '4. Normas de Organización y Funcionamiento (2023)', 'capitulo': 'DISPOSICIÓN DEROGATORIA', 'seccion': 'SECCIÓN PRIMERA. DEROGACIÓN DEL ANTERIOR', 'articulo': 'Artículo 18.- Derogación del anterior..................................................................................'}\n",
      "{'source': '4. Normas de Organización y Funcionamiento (2023)', 'capitulo': 'DISPOSICIÓN FINAL............................................................................................................', 'seccion': 'SECCIÓN PRIMERA. ENTRADA EN VIGOR Y REVISIÓN', 'articulo': 'Artículo 19.- Entrada en vigor.'}\n",
      "{'source': '4. Normas de Organización y Funcionamiento (2023)', 'capitulo': 'DISPOSICIÓN FINAL............................................................................................................', 'seccion': 'SECCIÓN PRIMERA. ENTRADA EN VIGOR Y REVISIÓN', 'articulo': 'Artículo 20.- Revisión del documento'}\n"
     ]
    }
   ],
   "source": [
    "from langchain.text_splitter import MarkdownHeaderTextSplitter\n",
    "\n",
    "# headers_to_split_on = [\n",
    "#     (\"#\", \"source\"),\n",
    "#     (\"##\", \"capitulo\"),\n",
    "#     (\"###\", \"apartado\"),\n",
    "#     (\"####\", \"subapartado\"),\n",
    "# ]\n",
    "\n",
    "# Fichero 1\n",
    "# headers_to_split_on = [\n",
    "#     (\"#\", \"source\"),\n",
    "#     (\"##\", \"capitulo\"),\n",
    "#     (\"###\", \"articulo\"),\n",
    "#     (\"####\", \"articulo\"),\n",
    "# ]\n",
    "\n",
    "# Fichero 2\n",
    "# headers_to_split_on = [\n",
    "#     (\"#\", \"source\"),\n",
    "#     (\"##\", \"capitulo\"),\n",
    "#     (\"###\", \"apartado\"),\n",
    "#     (\"####\", \"subapartado\"),\n",
    "# ]\n",
    "\n",
    "# Ficheros 3 y 4\n",
    "headers_to_split_on = [\n",
    "    (\"#\", \"source\"),\n",
    "    (\"##\", \"capitulo\"),\n",
    "    (\"###\", \"seccion\"),\n",
    "    (\"####\", \"articulo\"),\n",
    "]\n",
    "\n",
    "\n",
    "markdown_splitter = MarkdownHeaderTextSplitter(\n",
    "    headers_to_split_on=headers_to_split_on\n",
    ")\n",
    "splits = markdown_splitter.split_text(md_string)\n",
    "for doc in splits:\n",
    "    print(doc.metadata)"
   ]
  },
  {
   "cell_type": "markdown",
   "metadata": {},
   "source": [
    "## VECTORS"
   ]
  },
  {
   "cell_type": "code",
   "execution_count": 82,
   "metadata": {},
   "outputs": [],
   "source": [
    "from langchain.vectorstores import Chroma"
   ]
  },
  {
   "cell_type": "code",
   "execution_count": 83,
   "metadata": {},
   "outputs": [],
   "source": [
    "# from langchain.embeddings import HuggingFaceEmbeddings\n",
    "\n",
    "# embedding = HuggingFaceEmbeddings()"
   ]
  },
  {
   "cell_type": "code",
   "execution_count": 84,
   "metadata": {},
   "outputs": [],
   "source": [
    "from langchain_openai import OpenAIEmbeddings\n",
    "\n",
    "embedding = OpenAIEmbeddings()"
   ]
  },
  {
   "cell_type": "code",
   "execution_count": 85,
   "metadata": {},
   "outputs": [
    {
     "name": "stdout",
     "output_type": "stream",
     "text": [
      "154\n"
     ]
    }
   ],
   "source": [
    "vectordb = Chroma(persist_directory=output_path, embedding_function=embedding)\n",
    "print(vectordb._collection.count())"
   ]
  },
  {
   "cell_type": "code",
   "execution_count": 86,
   "metadata": {},
   "outputs": [],
   "source": [
    "vectordb = Chroma.from_documents(\n",
    "    documents=splits,\n",
    "    embedding=embedding,\n",
    "    persist_directory=output_path\n",
    ")"
   ]
  },
  {
   "cell_type": "code",
   "execution_count": 87,
   "metadata": {},
   "outputs": [
    {
     "name": "stdout",
     "output_type": "stream",
     "text": [
      "174\n"
     ]
    }
   ],
   "source": [
    "print(vectordb._collection.count())"
   ]
  },
  {
   "cell_type": "markdown",
   "metadata": {},
   "source": [
    "## CLASE"
   ]
  },
  {
   "cell_type": "code",
   "execution_count": 88,
   "metadata": {},
   "outputs": [],
   "source": [
    "# # input_path = \"pipeline_files/2_transcribed_audio/gestion_de_requisitos_con_Redmine.json\"\n",
    "# input_path = \"pipeline_files/2_transcribed_audio_coffee\"\n",
    "# # output_path = \"pipeline_files/3_vectordb\"\n",
    "# output_path = \"pipeline_files/3_vectordb_coffee\"\n",
    "# chunk_duration = 10 # in seconds\n",
    "# reset_db = True"
   ]
  },
  {
   "cell_type": "code",
   "execution_count": 89,
   "metadata": {},
   "outputs": [],
   "source": [
    "# import json\n",
    "# from langchain.docstore.document import Document\n",
    "# from langchain.vectorstores import Chroma\n",
    "# from langchain.embeddings import HuggingFaceEmbeddings\n",
    "# import os\n",
    "# import shutil\n",
    "# import torch\n",
    "\n",
    "\n",
    "# class VectorDBGenerator:\n",
    "#     def __init__(self, output_path, reset_db=True):\n",
    "#         self.output_path = output_path\n",
    "#         if reset_db:\n",
    "#             self.__delete_db()\n",
    "#         self.device = \"cuda\" if torch.cuda.is_available() else \"cpu\"\n",
    "#         self.embeddings = HuggingFaceEmbeddings()\n",
    "\n",
    "#     def generate_vectordb(self, input_path, chunk_duration):\n",
    "#         json_data = self.__read_json_file(input_path)\n",
    "#         chunks = self.__chunk_aggregator(json_data, chunk_duration)\n",
    "#         documents = self.__generate_documents(chunks)\n",
    "#         vectordb = self.__generate_vectors(documents)\n",
    "#         return vectordb\n",
    "    \n",
    "\n",
    "#     def __read_json_file(self, file_path):\n",
    "#         with open(file_path, 'r', encoding='utf-8') as file:\n",
    "#             data = json.load(file)\n",
    "#         return data\n",
    "\n",
    "\n",
    "#     def __chunk_aggregator(self, data, chunk_duration):\n",
    "#         # duration_chunk, chunk_text, chunk_start, chunk_end = 0, \"\", \"00:00:00,000\", \"00:00:00,000\"\n",
    "#         duration_chunk, chunk_text, chunk_start, chunk_end = 0, \"\", \"00:00:00.000\", \"00:00:00.000\"\n",
    "#         chunks = []\n",
    "#         for el in data:\n",
    "#             start = float(self.__time_to_seconds(el[\"start\"]))\n",
    "#             end = float(self.__time_to_seconds(el[\"end\"]))\n",
    "#             duration_chunk += end - start\n",
    "#             # chunk_text += el[\"text\"] + \" \"\n",
    "#             chunk_text += el[\"content\"] + \" \"\n",
    "#             if duration_chunk >= chunk_duration:\n",
    "#                 chunk_end = el[\"end\"]\n",
    "#                 # chunks.append({\"filename\": el[\"filename\"], \"start\": chunk_start, \"end\": chunk_end, \"text\": chunk_text})\n",
    "#                 chunks.append({\"episode\": el[\"episode\"], \"start\": chunk_start, \"end\": chunk_end, \"content\": chunk_text})\n",
    "#                 chunk_start = el[\"end\"]\n",
    "#                 chunk_text = \"\"\n",
    "#                 duration_chunk = 0\n",
    "#         return chunks\n",
    "    \n",
    "#     def __time_to_seconds(self, time_str):\n",
    "#         time_components = time_str.split(':')\n",
    "#         hours = int(time_components[0])\n",
    "#         minutes = int(time_components[1])\n",
    "#         # seconds, milliseconds = map(float, time_components[2].split(','))\n",
    "#         seconds, milliseconds = map(float, time_components[2].split('.'))\n",
    "#         total_seconds = hours * 3600 + minutes * 60 + seconds + milliseconds / 1000\n",
    "#         return total_seconds\n",
    "    \n",
    "\n",
    "#     def __generate_documents(self, data):\n",
    "#         splits = []\n",
    "#         for el in data:\n",
    "#             metadata = {}\n",
    "#             # metadata[\"filename\"] = el[\"filename\"]\n",
    "#             # metadata[\"start\"] = el[\"start\"]\n",
    "#             # metadata[\"end\"] = el[\"end\"]\n",
    "#             # doc =  Document(page_content=el[\"text\"], metadata=metadata)\n",
    "#             metadata[\"filename\"] = el[\"episode\"]\n",
    "#             metadata[\"start\"] = el[\"start\"]\n",
    "#             metadata[\"end\"] = el[\"end\"]\n",
    "#             doc =  Document(page_content=el[\"content\"], metadata=metadata)\n",
    "#             splits.append(doc)\n",
    "#         return splits\n",
    "    \n",
    "#     def __generate_vectors(self, documents):\n",
    "#         vectordb = Chroma.from_documents(\n",
    "#             documents=documents,\n",
    "#             embedding=self.embeddings,\n",
    "#             persist_directory=self.output_path\n",
    "#         )\n",
    "#         return vectordb\n",
    "    \n",
    "#     def __delete_db(self):\n",
    "#         if os.path.exists(self.output_path):\n",
    "#             shutil.rmtree(self.output_path)\n",
    "#         os.makedirs(self.output_path)\n"
   ]
  },
  {
   "cell_type": "code",
   "execution_count": 90,
   "metadata": {},
   "outputs": [],
   "source": [
    "# generator = VectorDBGenerator(output_path, reset_db)\n",
    "# if os.path.isdir(input_path):\n",
    "#     for file_name in os.listdir(input_path):\n",
    "#         if file_name.endswith(\".json\"):\n",
    "#             file_path = os.path.join(input_path, file_name)\n",
    "#             generator.generate_vectordb(file_path, chunk_duration)\n",
    "# else:\n",
    "#     generator.generate_vectordb(input_path, chunk_duration)"
   ]
  },
  {
   "cell_type": "code",
   "execution_count": 91,
   "metadata": {},
   "outputs": [],
   "source": [
    "# from tqdm import tqdm\n",
    "\n",
    "# generator = VectorDBGenerator(output_path, reset_db)\n",
    "# if os.path.isdir(input_path):\n",
    "#     for file_name in tqdm(os.listdir(input_path), desc=\"Processing files\"):\n",
    "#         if file_name.endswith(\".json\"):\n",
    "#             file_path = os.path.join(input_path, file_name)\n",
    "#             generator.generate_vectordb(file_path, chunk_duration)\n",
    "# else:\n",
    "#     generator.generate_vectordb(input_path, chunk_duration)\n"
   ]
  }
 ],
 "metadata": {
  "kernelspec": {
   "display_name": "venv",
   "language": "python",
   "name": "python3"
  },
  "language_info": {
   "codemirror_mode": {
    "name": "ipython",
    "version": 3
   },
   "file_extension": ".py",
   "mimetype": "text/x-python",
   "name": "python",
   "nbconvert_exporter": "python",
   "pygments_lexer": "ipython3",
   "version": "3.10.11"
  }
 },
 "nbformat": 4,
 "nbformat_minor": 2
}
