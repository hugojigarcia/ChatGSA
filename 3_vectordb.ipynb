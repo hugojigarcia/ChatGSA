{
 "cells": [
  {
   "cell_type": "code",
   "execution_count": 6,
   "metadata": {},
   "outputs": [],
   "source": [
    "# input_path = \"documentacion/1. Estatutos (2022).md\"\n",
    "# input_path = \"documentacion/2. Programa Educativo de Grupo 2022 - 2025.md\"\n",
    "input_path = \"documentacion/3. Reglamento de Regimen Interno (2023).md\"\n",
    "output_path = \"vector_db\""
   ]
  },
  {
   "cell_type": "code",
   "execution_count": 7,
   "metadata": {},
   "outputs": [],
   "source": [
    "from transformers import AutoTokenizer, AutoModelForCausalLM, pipeline"
   ]
  },
  {
   "cell_type": "code",
   "execution_count": 8,
   "metadata": {},
   "outputs": [],
   "source": [
    "import torch\n",
    "\n",
    "device = \"cuda\" if torch.cuda.is_available() else \"cpu\""
   ]
  },
  {
   "cell_type": "markdown",
   "metadata": {},
   "source": [
    "## MARKDOWN LOADER"
   ]
  },
  {
   "cell_type": "code",
   "execution_count": 9,
   "metadata": {},
   "outputs": [
    {
     "data": {
      "text/plain": [
       "'# Reglamento de Regimen Interno (2023)\\n\\n\\n\\n## CAPÍTULO I. ASOCIACIÓN ÍNDICE\\n\\n#### Artículo 1.- Definición:...........................................................................................................\\n\\n```\\nLa Asociación Grupo Scout Annapurna (GSA), en adelante el Grupo, se define como\\nun conjunto de personas que trabaja, aprende y forma en el escultismo. Es una entidad\\nautogestionada, no lucrativa y de carácter social, apartidista, aconfesional y dedicada\\na la labor educativa de jóvenes de edades comprendidas entre 6 y 21 años inspirada\\nen fines, principios y métodos del movimiento scout, fundado por Lord Baden-Powell.\\n```\\n#### Artículo 2.- Régimen Jurídico\\n\\n```\\nEl Grupo se constituye como una entidad sin ánimo de lucro, al amparo del artículo 22\\nde la Constitución Española (CE), que se rige por la Ley Orgánica 1/2002, de 22 de\\nmarzo reguladora del derecho de Asociación y normas concordantes, así como\\naquellas disposiciones futuras que en materia asociativa y del ámbito del ocio y tiempo\\nlibre se dicten.\\n```\\n#### Artículo 3.- Objetivos y fines\\n\\n```\\nEl Grupo tiene como objetivo principal la educación integral de niños, niñas y jóvenes;\\npotenciando su desarrollo, basándonos en los compromisos dictados por el Proyecto\\nEducativo de Grupo (PEG), como personas y como parte de la ciudadanía. Todo este\\ndesarrollo se enmarca en el escultismo como método educativo para alcanzar este fin.\\n```\\n\\n```\\nAsociación Grupo Scout Annapurna GSA\\nActualizado 2023\\nAnnapurna 722\\n```\\n#### Artículo 4.- Actividades\\n\\n```\\nEl Grupo propone una variedad de actividades y proyectos educativos para alcanzar\\nsus objetivos, incluyendo:\\n```\\n- Actividades medioambientales.\\n- Actividades al aire libre.\\n- Actividades de cooperación al desarrollo.\\n- Actividades de intervención social.\\n- Actividades de educación para la igualdad.\\n- Actividades de educación para la salud.\\n- Actividades de educación para la paz.\\n- Actividades de promoción y formación del voluntariado.\\n- Actividades de promoción de la cultura y el deporte.\\n- Actividades de formación de educadores/as scout.\\n- Actividades de animación sociocultural.\\n- Cualquier otra actividad o proyecto que ayude al desarrollo de los fines del\\n    Grupo.\\n\\n#### Artículo 5.- Colaboración con otras entidades.\\n\\n```\\n5.1.- El Grupo podrá establecer contactos y fórmulas de colaboración, para sí o en\\nrepresentación de sus personas asociadas, con otras entidades,\\norganizaciones u organismos públicos o privados, que persigan fines similares\\no desarrollen actividades adecuadas a sus fines, pudiendo federarse con ellas\\no participar en cualquier tipo de órganos, foros, plataformas y otros medios de\\nintercambio y colaboración lícitos.\\n```\\n```\\n5.2.- La aprobación para federarse con otras entidades deberá ser aprobada por la\\nAsamblea General Ordinaria o Extraordinaria.\\n```\\n\\n```\\nAsociación Grupo Scout Annapurna GSA\\nActualizado 2023\\nAnnapurna 722\\n```\\n#### Artículo 6.- Principios\\n\\n```\\n6.1.- El Grupo suscribe los principios establecidos en la Constitución Española, en\\nla Declaración Universal de los Derechos Humanos (Naciones Unidas, 10 de\\ndiciembre de 1948), en la Convención Mundial sobre los Derechos del Niño y\\nde la Niña (Naciones Unidas, 20 de noviembre de 1989) y la Ley Orgánica de\\nProtección Integral a la Infancia y la Adolescencia frente a la Violencia (Ley\\nOrgánica 8/2021 del 4 de junio de 2023).\\n```\\n```\\n6.2.- El Grupo asume como propios los principios de la Constitución Scout Mundial,\\nconcretados en:\\na. Un Compromiso Social: Lo que supone participar en el desarrollo de la\\nSociedad, dentro del respeto a la dignidad de la persona, el fomento de\\nla paz, la comprensión y la cooperación entre los pueblos en el ámbito\\nlocal, nacional e internacional, y el respeto a la integridad de la\\nnaturaleza.\\nb. Un Compromiso Espiritual: Lo que implica tomar conciencia de la\\nvertiente espiritual de la vida. Por tanto, considerando fundamental\\ntambién la educación en este ámbito, el Grupo podrá decidir libremente,\\nen base a estos principios y al Compromiso Asociativo, su propia\\ndefinición en este aspecto, vinculando su programa educativo si así lo\\ndesea, a opciones confesionales concretas, pudiendo definirse como\\nconfesional, laico o plural en creencias y manifestaciones espirituales.\\nc. Un Compromiso Personal: En el que cada persona que forme parte del\\nGrupo se convierta en el artífice y protagonista de su propio crecimiento,\\ndesarrollando la capacidad crítica y un sentido personal de\\nresponsabilidad y autoexigencia.\\n```\\n\\n```\\nAsociación Grupo Scout Annapurna GSA\\nActualizado 2023\\nAnnapurna 722\\n```\\n#### Artículo 7- La Ley Scout\\n\\n```\\nLa Ley Scout es un instrumento educativo. A través de ésta, se exponen de forma\\npositiva, con un lenguaje sencillo, los principios y valores que nos guían y conforman\\nel estilo de vida a seguir por quienes asumimos la Promesa. Cada sección, sin variar\\nel significado, hace sus propias adaptaciones al nivel y situaciones de sus jóvenes,\\ntraduciendo a la vida diaria sus necesidades. Supone un reto para la imaginación de\\ntoda persona que vive de verdad su compromiso: “La Ley Scout es la base sobre la\\nque descansa toda la Formación Scout”.\\n```\\n```\\nEstos principios se agrupan en diez apartados, interpretados según la definición del\\nPrograma Educativo de Grupo (PEG):\\n```\\n```\\nEl/la Scout:\\n```\\n_1. Cifra su honor en ser digno/a de confianza._\\n    Una persona que es veraz y honrado/a, tiene una sola palabra, sabe lo que es\\n    y lo que hace, es digna de confianza.\\n_2. Es leal._\\n    Descubre el país en que vive, y es leal con su gente, empezando por las\\n    personas que lo rodean, es responsable con lo que se compromete y\\n    consecuente con lo que piensa, vive sus valores y respeta las convicciones de\\n    los demás.\\n_3. Es útil y servicial._\\n    Es servicial y se esfuerza por implantar la justicia, es útil y ayuda a construir un\\n    mundo mejor. Es competente. Tiene asumido que todas las personas se\\n    necesitan, unas a otras.\\n_4. Es amigo/a de todos/as y hermano/a de cualquier otro/a scout._\\n    Es solidario/a con las personas, las respeta y es especialmente un/a hermano/a\\n    para los/as demás Scouts. Comienza y mantiene la amistad.\\n\\n\\n```\\nAsociación Grupo Scout Annapurna GSA\\nActualizado 2023\\nAnnapurna 722\\n```\\n_5. Es cortés y educado/a._\\n\\n```\\nEs respetuoso/a y educado/a con las demás personas, lleva un estilo de vida\\nacorde con su dignidad, es amable, respeta a las personas con las que\\ncomparte el mundo.\\n```\\n_6. Ama y protege la Naturaleza._\\n\\n```\\nAprecia, respeta y protege la Naturaleza y colabora en la defensa del Medio\\nAmbiente.\\n```\\n_7. Es responsable y no hace nada a medias._\\n\\n```\\nEs responsable de sus actos y colabora y se compromete con su equipo o\\ncomunidad para llevar a cabo los proyectos comenzados; vive en grupo y no\\nhace las cosas a medias. Asume responsabilidades y va hasta el final con el\\nobjetivo trazado.\\n```\\n_8. Es animoso/a ante peligros y dificultades._\\n\\n```\\nAfronta las dificultades con alegría y positivismo, ve en las dificultades que se\\nle presentan oportunidades de trabajo y mejora.\\n```\\n_9. Es trabajador/a, austero/a y respeta el bien ajeno._\\n\\n```\\nEs una persona prudente y responsable de sus recursos, trabajadora y\\ncuidadosa de los bienes, austera, se preocupa del bien común y aprovecha sus\\ntalentos, procurando que estén al servicio de las personas\\n```\\n_10. Es limpio/a y sano/a; puro en sus pensamientos, palabras y acciones._\\n\\n```\\nEs persona transparente y sincera, teniendo una conducta limpia y clara, es\\nsana, es limpia por dentro y por fuera, respetando su integridad y la de las\\ndemás.\\n```\\n\\n```\\nAsociación Grupo Scout Annapurna GSA\\nActualizado 2023\\nAnnapurna 722\\n```\\n#### Artículo 8.- La Promesa Scout\\n\\n```\\nLa Promesa Scout constituye el progreso que refleja el compromiso personal con los\\nvalores y principios del Escultismo a nivel personal, social y/o grupal. Se realiza a partir\\nde la sección de Esculta y es la propia persona quien decide cuándo hacerlo de forma\\nlibre y voluntaria cuando cree que está preparada. La Promesa en el Grupo sigue una\\nestructura común en la cual se desarrolla el significado de la Promesa, la Ley, el Grupo\\ny/o los valores del Escultismo para sí misma teniendo como fórmula final el\\ncompromiso o promesa al que esa persona se quiere acoger para con el Escultismo,\\nla Ley, el Grupo y sí misma como scout.\\n```\\n#### Artículo 9.- Sistema de Programas\\n\\n```\\n9.1.- El Sistema de Programas educativos scouts es el conjunto de documentos y\\nestrategias educativas, funcionales y organizativas interrelacionadas que, en\\nfunción de la distribución de competencias, están continuamente articulándose\\npara asegurar los mejores resultados, y cuyo fin último es orientar y facilitar la\\nlabor educativa del equipo de personas educadoras.\\n```\\n```\\n9.2.- El Sistema de Programas educativos establece los siguientes documentos\\ncomplementarios, secuenciales e interdependientes:\\na. Una base ideológica: El Programa Educativo del Grupo (PEG).\\nb. Una base Técnico-Pedagógica: El Programa Educativo Del Grupo\\n(PEG) y el Programa Anual de Grupo (PAG).\\nc. Una base funcional: Las normas de organización y funcionamiento.\\nd. Una base práctica: Las programaciones de sección, cargo y grupo.\\ne. Una base evaluadora: Las programaciones y revisiones de sección,\\ncargo y grupo.\\n```\\n\\n```\\nAsociación Grupo Scout Annapurna GSA\\nActualizado 2023\\nAnnapurna 722\\n```\\n#### Artículo 10.- Del ámbito territorial\\n\\n```\\nEl ámbito de actuación en el que se desarrollarán principalmente las actividades del\\nGrupo será el del territorio de la Comunidad de Madrid. No obstante, cuando así lo\\nrequiera la naturaleza de alguna actividad, esta podrá desarrollarse total o\\nparcialmente en el resto del territorio del Estado Español o en el extranjero.\\n```\\n#### Artículo 11.- Del domicilio social\\n\\n```\\nEl Grupo establece su domicilio social en la Plaza de la Paja, número 4, 28005, Madrid.\\nEn caso de cambio se establecerá reglamentariamente, previo acuerdo en Asamblea\\nGeneral Ordinaria.\\n```\\n\\n```\\nAsociación Grupo Scout Annapurna GSA\\nActualizado 2023\\nAnnapurna 722\\n```\\n## CAPÍTULO II. DE LAS PERSONAS ASOCIADAS\\n\\n### SECCIÓN PRIMERA: PERSONAS SOCIAS EDUCADORAS\\n\\n#### Artículo 12.- Definición\\n\\n```\\nSon aquellas personas asociadas encargadas de liderar y gestionar las\\nactividades educativas y formativas de la organización. A este equipo se le\\ndenomina Equipo de Kraal.\\n```\\n#### Artículo 13.- Proceso de incorporación\\n\\n```\\nActualmente en el grupo existen dos métodos de incorporación:\\n```\\n```\\na. Por etapa evolutiva: Las personas socias educandas, durante la etapa\\nde Rover y siendo mayor de edad tienen la opción de proponer al\\nEquipo de Kraal su incorporación al mismo. Acto seguido el Equipo de\\nKraal, de acuerdo con las capacidades de esta y las necesidades del\\ngrupo, decidirá si dicha persona se puede incorporar como persona\\nsocia educadora.\\nb. Por entrevista: De forma libre y voluntaria, aquellas personas mayores\\nde edad, con capacidad de obrar, no sujetas a condición legal que lo\\nimpida y que tenga interés en el desarrollo de los fines del Grupo\\npodrán presentarse candidatas a integrarse en el Grupo como persona\\nsocia educadora. Tras lo cual el Equipo de Kraal entrevistará a las\\npersonas candidatas y, de acuerdo con las necesidades del grupo y\\nlas capacidades de esta, se decidirá si se puede incorporar como\\npersona socia educadora.\\n```\\n\\n```\\nAsociación Grupo Scout Annapurna GSA\\nActualizado 2023\\nAnnapurna 722\\n```\\n#### Artículo 14.- Derechos de las personas socias educadoras\\n\\n```\\na. Participar en las actividades del Grupo.\\nb. Ejercer el derecho de voto, así como asistir a las Asambleas Generales,\\ntanto Ordinarias como Extraordinarias.\\nc. Ser informada acerca de la composición de los órganos de gobierno y\\nrepresentación del Grupo, de su estado de cuentas y del desarrollo de\\nsu actividad.\\nd. Ser oída con carácter previo a la adopción de medidas disciplinarias\\ncontra ella.\\ne. Impugnar los acuerdos de los órganos del Grupo que estime contrarios\\na la ley o los estatutos. Se impugnará mediante la convocatoria de una\\nAsamblea General Ordinaria o Extraordinaria donde se discutirá sobre\\nel acuerdo en cuestión exclusivamente.\\nf. Hacer sugerencias a las personas que conforman la Junta Directiva en\\norden al mejor cumplimiento de los fines del Grupo.\\ng. Derecho a la renuncia voluntaria de su condición de persona asociada.\\n```\\n#### Artículo 15.- Deberes de las personas socias educadoras\\n\\n```\\na. Compartir las finalidades del Grupo y colaborar para la consecución de\\nestas.\\nb. Cumplir el resto de las obligaciones que resulten de las disposiciones\\nestatutarias.\\nc. Acatar y cumplir los acuerdos válidamente adoptados por los órganos\\nde gobierno y representación del Grupo.\\nd. Cumplir con el método scout.\\ne. Cumplir con las normas de organización y funcionamiento.\\nf. En caso de obtener el título de cualquier formación reglada con los\\nrecursos monetarios del Grupo se debe firmar un contrato que\\nestablezca el tiempo mínimo en el que Grupo tendrá derecho a hacer\\nuso de dicho título.\\n```\\n\\n```\\nAsociación Grupo Scout Annapurna GSA\\nActualizado 2023\\nAnnapurna 722\\n```\\n### SECCIÓN SEGUNDA: PERSONAS SOCIAS EDUCANDAS\\n\\n#### Artículo 16.- Definición\\n\\n```\\nPodrán pertenecer al Grupo de forma libre y voluntaria, aquellas personas\\nmayores de edad, con capacidad de obrar y no sujetas a condición legal que lo\\nimpida, que tenga interés en el desarrollo de los fines del Grupo.\\n```\\n```\\nAsimismo, podrán pertenecer al Grupo las personas menores de edad con el\\nconsentimiento expreso de sus tutores/as legales.\\n```\\n#### Artículo 17.- Proceso de incorporación\\n\\n```\\nUna nueva persona socia educanda se incorporará siempre y cuando las\\nnecesidades y número de personas asociadas lo permita, según la legislación\\nvigente en el marco de ocio y tiempo libre de la Comunidad Autónoma en la que\\nse realice la actividad y/o la situación del grupo en ese momento lo permita,\\npriorizando siempre el buen funcionamiento de este. Además, antes de\\npertenecer al Grupo, se deberá presentar la documentación necesaria para\\nrealizar la inscripción. Una vez presentada dicha documentación, esta persona\\npodrá asistir libremente a las actividades.\\n```\\n#### Artículo 18.- Derechos de las personas socias educandas\\n\\n```\\na. Participar en las actividades del Grupo.\\nb. En el caso de ser mayor de edad, podrá ejercer el derecho de voto, así\\ncomo asistir a las Asambleas Generales, tanto Ordinarias como\\nExtraordinarias.\\n```\\n\\n```\\nAsociación Grupo Scout Annapurna GSA\\nActualizado 2023\\nAnnapurna 722\\n```\\n```\\nc. En caso de ser menor de edad, podrán ejercer el derecho a voto las\\npersonas que sean sus tutoras legales, así como asistir a las Asambleas\\nGenerales. tanto Ordinarias como Extraordinarias. Cabe aclarar que\\nsolo se podrá emitir un voto por cada persona socia menor de edad\\nrepresentada.\\nd. Ser informada acerca de la composición de los órganos de gobierno y\\nrepresentación del Grupo, de su estado de cuentas y del desarrollo de\\nsu actividad.\\ne. Ser oída con carácter previo a la adopción de medidas disciplinarias\\ncontra ella. En caso de ser menor de edad, esta acción se pondrá en\\nconocimiento de personas que sean sus tutoras legales.\\nf. Impugnar los acuerdos de los órganos del Grupo que estime contrarios\\na la ley o los estatutos. Se impugnará mediante la convocatoria de una\\nAsamblea General Extraordinaria donde se discutirá sobre el acuerdo\\nen cuestión exclusivamente.\\ng. Hacer sugerencias a las personas que conforman la Junta Directiva en\\norden al mejor cumplimiento de los fines del Grupo.\\nh. Derecho a la renuncia voluntaria de su condición de persona asociada.\\n```\\n#### Artículo 19.- Deberes de las personas socias educandas\\n\\n```\\na. Compartir las finalidades del Grupo y colaborar para la consecución de\\nestas.\\nb. Pagar las cuotas, derramas y otras aportaciones que, con arreglo a los\\nestatutos, puedan corresponder a cada persona asociada, salvo los\\ncasos que la Junta Directiva considere oportuno.\\nc. Cumplir el resto de las obligaciones que resulten de las disposiciones\\nestatutarias.\\nd. Acatar y cumplir los acuerdos válidamente adoptados por los órganos\\nde gobierno y representación del Grupo.\\ne. Cumplir con el método scout.\\nf. Cumplir con las normas de organización y funcionamiento.\\n```\\n\\n```\\nAsociación Grupo Scout Annapurna GSA\\nActualizado 2023\\nAnnapurna 722\\n```\\n### SECCIÓN TERCERA: PERSONAS SOCIAS DE HONOR\\n\\n#### Artículo 20.- Definición\\n\\n```\\nSon aquellas personas mayores de edad que por sus relevantes contribuciones\\na los fines del Grupo, se hagan acreedores/as a tal distinción.\\n```\\n#### Artículo 21.- Nombramiento\\n\\n```\\nLa condición de persona socia de honor se otorgará mediante una votación en\\nAsamblea General Ordinaria. Las personas candidatas a esta condición podrán\\nser propuestos por cualquier persona socia del Grupo.\\n```\\n#### Artículo 22.- Derechos de las personas socias de honor.....................................................\\n\\n```\\na. Participar en las actividades del Grupo.\\nb. Ser oída con carácter previo a la adopción de medidas disciplinarias\\ncontra su persona.\\nc. Impugnar los acuerdos de los órganos del Grupo que estime contrarios\\na la ley o los estatutos. Se impugnará mediante la convocatoria de una\\nAsamblea General Ordinaria o Extraordinaria donde se discutirá sobre\\nel acuerdo en cuestión exclusivamente.\\nd. Hacer sugerencias a las personas que conforman la Junta Directiva en\\norden al mejor cumplimiento de los fines del Grupo.\\ne. Derecho a la renuncia voluntaria de su condición de persona asociada.\\n```\\n#### Artículo 23.- Deberes de las personas socias de honor\\n\\n\\nAsociación Grupo Scout Annapurna GSA\\nActualizado 2023\\nAnnapurna 722\\n\\n```\\na. Cumplir el resto de las obligaciones que resulten de las disposiciones\\nestatutarias.\\nb. Acatar y cumplir los acuerdos válidamente adoptados por los órganos\\nde gobierno y representación del Grupo.\\nc. Cumplir con el método scout.\\nd. Cumplir con las normas de organización y funcionamiento.\\n```\\n\\n```\\nAsociación Grupo Scout Annapurna GSA\\nActualizado 2023\\nAnnapurna 722\\n```\\n### SECCIÓN CUARTA: DE LA PÉRDIDA O SUSPENSIÓN DE LA CONDICIÓN DE PERSONA ASOCIADA\\n\\n#### Artículo 24.- Pérdida de la condición de persona asociada\\n\\n```\\nSe perderá la condición de asociado por alguna de las causas siguientes:\\n```\\n```\\na. Por renuncia voluntaria, comunicada por escrito al Equipo de Kraal.\\nb. Por incumplimiento de sus obligaciones económicas, si dejara de\\nsatisfacer cuotas periódicas, salvo los casos que considere el Equipo de\\nKraal.\\n```\\n#### Artículo 25.- Suspensión de la condición de persona asociada\\n\\n```\\nPor conducta incorrecta, por desprestigiar al Grupo con hechos o palabras que\\nperturben gravemente los actos organizados por la misma y la normal convivencia\\nen el Grupo, o por cometer faltas graves, como viene detallado en el capítulo V\\nde este documento.\\n```\\n```\\nEn los supuestos de sanción y separación, se informará en todo caso a la persona\\nafectada de los hechos que puedan dar lugar a tales medidas, y se le oirá\\npreviamente, debiendo ser motivado el acuerdo que, en tal sentido, se adopte.\\n```\\n\\n```\\nAsociación Grupo Scout Annapurna GSA\\nActualizado 2023\\nAnnapurna 722\\n```\\n## CAPÍTULO III. DEL GRUPO.\\n\\n#### Artículo 26.- Órganos del grupo\\n\\n```\\n26.1.- Son órganos de gobierno del Grupo:\\na. Las Asambleas Generales.\\nb. El Equipo de Kraal.\\n```\\nc.^ La Junta Directiva.^\\n\\n```\\n26.2.- Sobre el régimen de mayorías en los Órganos Asociativos, y sin perjuicio de lo\\nque pueda establecerse en otros apartados de este Reglamento se considera\\ncomo norma general:\\na. Mayoría absoluta, a la alcanzada por una propuesta que obtenga a su\\nfavor, al menos, la mitad más uno de los votos presentes.\\nb. Mayoría simple, a la alcanzada por cualquier opción que obtenga a su\\nfavor, mayor número de votos que otra u otras, o bien que obtenga más\\nvotos a su favor que en su contra, de los votos presentes.\\nc. En las mayorías cualificadas o cálculos de quórum, el redondeo siempre\\nserá hacia arriba, tendiendo al número entero mayor más cercano.\\nd. En caso de que haya una mayoría de votos en abstención, se repetiría\\nla votación hasta que se llegue a un acuerdo.\\n```\\n#### Artículo 27.- Otras estructuras organizativas\\n\\n```\\nEl Grupo contará con otras estructuras organizativas que no tendrán la categoría de\\nórganos, pero que dada su relevancia se contemplan en el presente reglamento, son\\nlas siguientes:\\n```\\n```\\na. Comisiones de Grupo.\\nb. El Consejo de Jóvenes.\\nc. El Consejo de Familias.\\nd. Las reuniones de Kraal.\\n```\\n\\n```\\nAsociación Grupo Scout Annapurna GSA\\nActualizado 2023\\nAnnapurna 722\\n```\\n### SECCIÓN PRIMERA: DE LA ASAMBLEA GENERAL\\n\\n#### Artículo 28.- Definición\\n\\n```\\nLa Asamblea General es el órgano supremo de gobierno del Grupo y estará\\nintegrada por todas las personas asociadas. En caso de menores de edad,\\nserán las personas tutoras legales las representantes de estas.\\n```\\n#### Artículo 29.- Funciones y competencias\\n\\n```\\nSon competencias de la Asamblea General:\\n```\\n```\\na. Examinar y aprobar los presupuestos anuales y las cuentas.\\nb. Fijar las cuotas ordinarias o extraordinarias.\\nc. Nombramiento de la Junta Directiva y sus cargos.\\nd. Acuerdo para constituir o integrarse en una Federación de Asociaciones.\\ne. Solicitud de declaración de utilidad pública.\\nf. La admisión o expulsión de las personas asociadas, siendo delegable\\nesta competencia en el Equipo de Kraal.\\ng. Disposición y enajenación de bienes por mayoría cualificada.\\nh. Aprobación y/o modificación de los documentos de la Asociación.\\ni. Modificación del domicilio social del Grupo.\\nj. Disolución del Grupo.\\n```\\n#### Artículo 30.- Composición de la Asamblea General\\n\\n```\\nLa Asamblea General estará compuesta por:\\n```\\n```\\na. La Mesa de la Asamblea.\\nb. El resto de las personas socias del Grupo.\\nc. Personas invitadas, que no tendrán derecho a voto.\\n```\\n\\n```\\nAsociación Grupo Scout Annapurna GSA\\nActualizado 2023\\nAnnapurna 722\\n```\\n#### Artículo 31.- Designación de delegaciones y procedimiento de acreditación\\n\\n```\\nCada persona asociada, a excepción de las personas socias de honor, contará\\ncon un voto dentro de las Asambleas Generales, tanto Ordinarias como\\nExtraordinarias. Las personas socias que sean mayores de edad podrán ejercer\\nsu derecho a votar, mientras que las menores delegarán su voto en sus\\ntutores/as legales, que decidirán cómo emplearlo.\\n```\\n#### Artículo 32.- Sobre la delegación de voto\\n\\n```\\nSe contempla en el artículo 17 de los estatutos del Grupo la delegación del voto.\\nUna sola persona podrá tener tantos votos delegados como jóvenes tenga a su\\ncargo.\\n```\\n#### Artículo 33.- De las personas invitadas\\n\\n```\\nLas personas socias del Grupo podrán invitar a otras personas, siempre que las\\npersonas que constituyen la Asamblea lo consideren oportuno, al inicio de esta\\npor mayoría simple. Las personas invitadas tendrán voz, si así lo requiere la\\nAsamblea, pero no voto.\\n```\\n#### Artículo 34.- De la convocatoria\\n\\n```\\nLas convocatorias de las Asambleas Generales, tanto Ordinarias como\\nExtraordinarias, se harán por escrito, expresando el lugar, día y hora de la\\nreunión, así como el “Orden del día”. Entre la convocatoria y el día señalado\\npara la celebración de la Asamblea en primera convocatoria habrán de mediar\\nal menos treinta días naturales en caso de la ordinaria y quince días naturales\\nen la extraordinaria. La segunda convocatoria se establece treinta minutos\\ndespués de la primera convocatoria.\\n```\\n\\n```\\nAsociación Grupo Scout Annapurna GSA\\nActualizado 2023\\nAnnapurna 722\\n```\\n#### Artículo 35.- Constitución\\n\\n```\\nLas Asambleas Generales, tanto ordinarias como extraordinarias, quedarán\\nválidamente constituidas cuando concurran en ellas, presentes o personas\\nrepresentadas, al menos la mitad de las personas asociadas (educadoras,\\neducandas mayores de edad, tutoras legales representado educandas menores\\nde edad o con delegación de voto) con derecho a voto en la primera\\nconvocatoria y un tercio para la segunda convocatoria. En el caso de disolución\\ndel Grupo, la asistencia a la Asamblea General ha de ser del noventa por ciento\\nde las personas asociadas (educadoras, educandas mayores de edad, tutoras\\nlegales representado educandas menores de edad o con delegación de voto).\\n```\\n#### Artículo 36.- La Mesa de la Asamblea\\n\\n```\\nLa Mesa estará formada por la Junta Directiva actual en el momento de la\\nAsamblea en su totalidad, es decir, Presidencia, Secretaría y Tesorería.\\n```\\n#### Artículo 37.- Funciones de la Mesa de la Asamblea\\n\\n```\\n37.1.- La Secretaría se encargará de tomar actas y anotar las cuestiones y\\nrespuestas que surjan durante el curso de la Asamblea.\\n```\\n```\\n37.2.- La Presidencia moderará los debates. Hará respetar los Estatutos y este\\nReglamento, defendiendo el derecho de las personas que constituyan la\\nAsamblea a expresar libremente sus opiniones, siempre que se ajuste al\\nasunto que se debate y no atenten contra los Principios y Fines de la\\nAsociación. Por último, trasladará el resultado de las votaciones y\\nescrutinios a la Asamblea.\\n```\\n\\n```\\nAsociación Grupo Scout Annapurna GSA\\nActualizado 2023\\nAnnapurna 722\\n```\\n#### Artículo 38.- Orden del Día\\n\\n```\\nLos debates de la Asamblea se sujetarán en su ordenación y contenido a lo\\nespecificado en el Orden del Día expresado en la Convocatoria.\\n```\\n```\\nSe recogerán propuestas de las personas asociadas del Grupo para debatir en\\nla Asamblea, 45 días naturales antes de su celebración en caso de ser\\nAsamblea Ordinaria. Las propuestas formuladas por el conjunto del Equipo de\\nKraal serán votadas por el mismo antes de incluirlas en el orden del día.\\n```\\n#### Artículo 39.- Desarrollo de los debates\\n\\n```\\nReferente a las cuestiones, siempre que se vaya a tratar un tema que acarree\\nuna votación se abrirá un turno cerrado de preguntas después de presentar\\ndichos puntos. Se anotará a las personas que quieran hacer preguntas y se irán\\nresolviendo por orden.\\n```\\n```\\nLa Mesa de la Asamblea podrá limitar por razones de tiempo el número y\\nduración de las intervenciones.\\n```\\n#### Artículo 40.- Debate de propuestas articuladas\\n\\n```\\nPara el debate de propuestas con un texto articulado, la Mesa de la Asamblea\\ndispondrá el mismo de forma que la discusión siga un orden lógico y agrupando\\nlas propuestas que traten idénticos puntos. Para ello se agruparán las\\npropuestas similares y se eliminarán aquellas incompatibles con las ya\\naprobadas o con el texto no enmendado.\\n```\\n\\n```\\nAsociación Grupo Scout Annapurna GSA\\nActualizado 2023\\nAnnapurna 722\\n```\\n#### Artículo 41.- Uso de la palabra\\n\\n```\\nCualquier persona delegada podrá intervenir en los debates. Las intervenciones\\nse atendrán a las siguientes normas:\\n```\\n```\\na. La Mesa de la Asamblea limitará el tiempo de las intervenciones con el\\nobjeto de que se puedan expresar el mayor número de personas.\\nb. Cuando una intervención sea reiterativa con otra, se desvíe del tema de\\ndiscusión, sea descortés o se exceda del tiempo señalado, a juicio de la\\nPresidencia de la Asamblea, ésta podrá llamar la atención de la persona\\nque intervenga o, en caso extremo, le retirará el uso de la palabra.\\nc. Ninguna persona podrá ser interrumpida en el uso de la palabra, salvo\\npor la Presidencia, para advertirla que se ha agotado su tiempo, para\\nllamarla a la cuestión o al orden, para retirarle la palabra o para llamar\\nal orden a personas que conformen la Asamblea o al público.\\nd. La Presidencia de la Asamblea podrá intervenir en cualquier momento\\npara solicitar aclaraciones a las personas intervinientes sobre aspectos\\nconfusos o importantes para que la Asamblea se pueda formar un\\ncriterio.\\ne. La Presidencia de la Asamblea adoptará las medidas oportunas para\\nque los debates se produzcan con la suficiente agilidad, pudiendo dar\\npor concluido el debate de un tema cuando lo considere suficientemente\\ndiscutido, no aceptando más solicitudes de intervención que las que se\\nhubiesen producido hasta ese momento.\\nf. Si cualquier persona delegada actúa de forma descortés o agresiva o no\\nrespeta las indicaciones de la Presidencia de la Asamblea una vez\\nretirada la palabra, ésta podrá ordenar su expulsión.\\n```\\n#### Artículo 42.- Alusiones\\n\\n```\\nCuando, a juicio de la Mesa, se hicieran alusiones que impliquen juicios de valor\\no inexactitudes en relación con la conducta de una persona asociada o Grupo,\\nla Presidencia concederá inmediatamente la palabra a la persona aludida o a\\n```\\n\\n```\\nAsociación Grupo Scout Annapurna GSA\\nActualizado 2023\\nAnnapurna 722\\n```\\n```\\nsu representante para que conteste estrictamente a las alusiones, con lo que se\\nconsiderará cerrado el turno.\\n```\\n#### Artículo 43.- Cuestión de Orden\\n\\n```\\n43.1.- En cualquier momento del debate, cualquier persona asistente a la\\nAsamblea podrá solicitar la observancia del presente Reglamento de\\nRégimen Interno mediante una Cuestión de Orden. A este efecto deberá\\n```\\ncitar la norma o normas cuya aplicación reclame.^\\n\\n```\\n43.2.- No cabrá debate alguno en las cuestiones de orden, resolviendo la\\nMesa, por mayoría simple, sobre la alegación hecha.\\n```\\n#### Artículo 44.- De la moción de censura\\n\\n```\\n44.1.- Toda persona asociada de pleno derecho puede promover, si fuese\\nnecesario, un voto de censura en contra de cualquier persona que\\nconforme la Junta Directiva.\\n```\\n(^)\\n44.2.- Para el debate de la moción de censura se seguirán dos turnos de\\nintervenciones a favor y en contra de esta. La persona de la Junta\\nDirectiva objeto de la moción podrá intervenir en respuesta a cualquier\\nintervención y se respetará el derecho de réplica y el turno de\\nalusiones. La Presidencia del Grupo podrá intervenir en cualquier\\nmomento y en caso de que la moción sea contra esta, la persona que\\npodrá intervenir en cualquier momento será la Secretaría.\\n44.3.- Posterior a la presentación se hará un voto secreto, en el cual la moción\\nsaldrá adelante solo si cuenta con al menos dos tercios de los votos\\npresentes y delegados.\\n\\n\\n```\\nAsociación Grupo Scout Annapurna GSA\\nActualizado 2023\\nAnnapurna 722\\n```\\n#### Artículo 45.- De las votaciones\\n\\n```\\nSolo se considera la votación secreta en las Asambleas Generales. Se\\nprocederá a la papeleta individual y depositada en una urna, cuando estén\\nrecogidos todos los votos se procederá a contarlos por la Secretaría, con ayuda\\nde la Mesa. También se contemplarán otros métodos de votación, siempre que\\néstos aseguren un voto secreto y justo.\\n```\\n#### Artículo 46.- Procedimiento de votación.\\n\\n```\\n46.1.- Antes de proceder a cualquier votación, ésta será anunciada por la\\nMesa. Las votaciones no se podrán interrumpir por causa alguna.\\nDurante el desarrollo de estas la Presidencia no concederá el uso de\\nla palabra y ninguna persona podrá entrar en la sala de sesiones ni\\n```\\nabandonarla.^\\n\\n```\\n46.2.- Cuando una proposición sea sometida a votación las delegaciones\\npodrán emitir sus votos en los siguientes sentidos:\\na. Voto a favor de la proposición.\\nb. Voto en contra de la proposición.\\n```\\nc.^ Voto en abstención.^\\n\\n```\\n46.3.- En votación secreta, se considerarán votos nulos aquellos cuyo\\ncontenido no responda exactamente a la cuestión, presenten\\ntachaduras, correcciones o, a juicio de la Mesa, su interpretación sea\\ndudosa.\\n```\\n#### Artículo 47.- De la validez de los acuerdos..........................................................................\\n\\n```\\nLos acuerdos se tomarán por mayoría simple de votos de las personas\\npresentes o representadas, salvo en los supuestos siguientes:\\n```\\n\\n```\\nAsociación Grupo Scout Annapurna GSA\\nActualizado 2023\\nAnnapurna 722\\n```\\n```\\na. Modificación de estatutos.\\nb. Expulsión de las personas asociadas.\\nc. Destitución de las personas que formen la Junta Directiva.\\nd. Modificación del Programa Educativo de Grupo (PEG).\\ne. Disposición o enajenación de bienes.\\nf. Modificación del domicilio social del Grupo.\\n```\\n```\\nEn estos casos será necesaria una mayoría cualificada de dos tercios de las\\npersonas presentes o representadas, decidiendo en caso de empate el voto de\\ncalidad de la Presidencia.\\n```\\n#### Artículo 48.- Recurrir decisiones o sanciones tomadas\\n\\n```\\n48.1.- Todas las personas asociadas o sus representantes legales podrán\\nrecurrir una decisión o sanción tomada por la Asamblea General si creen\\nque va en discordancia con el RRI, los estatutos o el PEG.\\n```\\n```\\n48.2.- Todas las denuncias o recursos se tendrán que hacer llegar a la Junta\\nDirectiva del Grupo, ya sea mediante comunicación directa o a través de\\notro Kraal.\\n```\\n```\\n48.3.- Se convocará una asamblea extraordinaria con la mayor cercanía\\nposible a la fecha en la que se presenta el recurso.\\n```\\n```\\n48.4.- Se comenzará la Asamblea presentando el punto a favor del recurso por\\nla persona que lo ha presentado o alguien designado por dicha persona.\\nTras ese turno de palabra, se abrirá un debate moderado por la mesa de\\nla Asamblea, tras el cual se realizará una votación para decidir si el\\n```\\nrecurso sigue adelante o no.^\\n\\n```\\n48.5.- Una vez tomada una resolución, se comunicará a las personas socias o\\nsus representantes legales en un plazo de 7 días.\\n```\\n\\n```\\nAsociación Grupo Scout Annapurna GSA\\nActualizado 2023\\nAnnapurna 722\\n```\\n48.6.- Mientras se tramitan los diferentes procedimientos, y con carácter\\ncautelar, el Equipo de Kraal o el órgano en quien se haya delegado la\\ntramitación, podrán adoptar las medidas provisionales para evitar que se\\ncausen perjuicios por la demora que puedan suponer los trámites a\\nrealizar.\\n\\n48.7.- Las medidas cautelares a que se refiere el punto anterior podrán\\nconsistir, según los casos, en:\\na. Suspensión en la aplicación de actos o acuerdos recurridos,\\nhasta que se resuelva el recurso.\\nb. Suspensión de funciones de participación en los órganos\\nasociativos.\\nc. Suspensión de los derechos como persona asociada.\\nd. Suspensión de la participación en las actividades asociativas.\\n\\n48.8.- Ninguna de estas medidas tiene carácter sancionador, y contra su\\nadopción no cabrá recurso alguno.\\n\\n\\n```\\nAsociación Grupo Scout Annapurna GSA\\nActualizado 2023\\nAnnapurna 722\\n```\\n### SECCIÓN SEGUNDA: EL EQUIPO DE KRAAL\\n\\n#### Artículo 49.- Naturaleza\\n\\n```\\nEl Equipo de Kraal es el conjunto de responsables del Grupo encargados del\\nfuncionamiento de esta y del cumplimiento de los fines de grupo mediante la\\npreparación, desarrollo y supervisión de las actividades. El Equipo de Kraal\\nactuará en consecuencia a las decisiones que tome la Asamblea General.\\n```\\n#### Artículo 50.- Composición\\n\\n```\\nEstá formado por personas socias mayores de edad cuya labor dentro del\\nGrupo no está remunerada. Estará formado por un número de responsables\\nacorde a la legalidad según la ratio de niños, niñas y jóvenes que participen en\\nlas actividades. De forma obligada, en el equipo deberá haber una persona en\\nposesión del título de Coordinador/a de Tiempo Libre o aquella titulación que la\\nley disponga.\\n```\\n#### Artículo 51.- Reuniones y quórum de constitución y adopción de acuerdos\\n\\n```\\nEl Equipo de Kraal se reúne al menos una vez al mes para llevar a cabo sus\\nfunciones de gestión del Grupo. Las fechas de estas reuniones se fijan a\\nprincipio del curso escolar por consenso de todo el Kraal pudiendo ser\\nmodificadas si fuera necesario. Además de estas reuniones mensuales, se\\npodrán convocar reuniones extraordinarias avisándolo con mínimo 48 horas de\\nantelación. Para que una reunión puede efectuarse la asistencia del Kraal debe\\nser mínimo de un tercio de los componentes del equipo.\\n```\\n\\n```\\nAsociación Grupo Scout Annapurna GSA\\nActualizado 2023\\nAnnapurna 722\\n```\\n#### Artículo 52.- Funciones del Equipo de Kraal\\n\\n```\\nSon competencias del Equipo de Kraal:\\n```\\n```\\na. Dirigir o supervisar las actividades del Grupo y llevar la gestión\\neconómica, administrativa y logística del Grupo.\\nb. Ejecutar los acuerdos de la Asamblea General.\\nc. Elaborar y someter a la aprobación de la Asamblea General los\\npresupuestos anuales y las Cuentas.\\nd. Elaborar, en su caso, la documentación del Grupo.\\ne. Resolver sobre la admisión de nuevas personas asociadas.\\nf. Expulsión de las personas asociadas.\\ng. Nombrar personas delegadas para alguna determinada actividad del\\nGrupo.\\nh. Modificación de las metodologías de las unidades y los manuales de los\\ncargos.\\ni. Gestión pedagógica y educativa del Grupo.\\nj. Cualquier otra facultad que no sea de la exclusiva competencia de la\\nAsamblea General.\\n```\\n#### Artículo 53.- Recurrir decisiones o sanciones tomadas\\n\\n```\\n53.1.- Todas las personas que sean parte del Equipo de Kraal tendrán derecho\\na presentar un recurso sobre cualquier decisión o sanción tomada por\\nel Equipo de Kraal, que consideren que incumple el RRI, los estatutos\\no el PEG.\\n```\\n```\\n53.2.- Todas las denuncias o recursos se tendrán que hacer llegar a la\\ncoordinación del Grupo, ya sea mediante comunicación directa o a\\n```\\ntravés de otro Kraal.^\\n\\n```\\n53.3.- En la siguiente reunión de Kraal se discutirá la validez de dicho recurso,\\natendiendo a los documentos mencionados anteriormente.\\n```\\n\\nAsociación Grupo Scout Annapurna GSA\\nActualizado 2023\\nAnnapurna 722\\n\\n```\\n53.4.- Una vez llegada a una decisión final, todas las personas implicadas\\ndeberán aprobar las actas.\\n```\\n```\\n53.5.- Mientras se tramitan los diferentes procedimientos, y con carácter\\ncautelar, el Equipo de Kraal o el órgano en quien se haya delegado la\\ntramitación, podrán adoptar las medidas provisionales para evitar que\\nse causen perjuicios por la demora que puedan suponer los trámites a\\nrealizar.\\n```\\n```\\n53.6.- Las medidas cautelares a que se refiere el punto anterior podrán\\nconsistir, según los casos, en:\\na. Suspensión en la aplicación de actos o acuerdos recurridos,\\nhasta que se resuelva el recurso.\\nb. Suspensión de funciones de participación en los órganos\\nasociativos.\\nc. Suspensión de los derechos como persona asociada.\\nd. Suspensión de la participación en las actividades asociativas\\n```\\n```\\n53.7.- Ninguna de estas medidas tiene carácter sancionador, y contra su\\nadopción no cabrá recurso alguno.\\n```\\n\\n```\\nAsociación Grupo Scout Annapurna GSA\\nActualizado 2023\\nAnnapurna 722\\n```\\n### SECCIÓN TERCERA: JUNTA DIRECTIVA\\n\\n#### Artículo 54.- Naturaleza\\n\\n```\\nLa Junta Directiva forma parte del Equipo de Kraal. Su mandato tendrá una\\nduración de dos años. Todas las personas pertenecientes a la Junta Directiva\\ndesempeñarán su cargo durante el tiempo establecido de manera gratuita.\\n```\\n#### Artículo 55.- Composición\\n\\n```\\nEstará formada por la Presidencia, la Secretaría y la Tesorería designadas por\\nla Asamblea General entre el Equipo de Kraal, en pleno uso de sus derechos\\nciviles que no estén incursos en motivos de incompatibilidad legalmente\\nestablecidos.\\n```\\n#### Artículo 56.- Reuniones y quórum de constitución y adopción de acuerdos\\n\\n```\\nLa Junta Directiva se reunirá previa convocatoria, debiendo mediar al menos\\ncinco días entre ésta y su celebración, cuantas veces lo determine la\\nPresidencia y a petición de dos de sus integrantes. Quedará constituida cuando\\nasista la mitad más uno de sus miembros y para que sus acuerdos sean válidos\\ndeberán ser adoptados por mayoría de votos. En caso de empate, será de\\ncalidad el voto de la Presidencia.\\n```\\n#### Artículo 57.- Funciones de la Junta Directiva\\n\\n```\\nSon facultades de la Junta Directiva:\\na. Representar al Equipo de Kraal ante la Asamblea general.\\nb. Representar al Grupo.\\n```\\n\\n```\\nAsociación Grupo Scout Annapurna GSA\\nActualizado 2023\\nAnnapurna 722\\n```\\n#### Artículo 58.- Presidencia\\n\\n```\\nLa Presidencia tendrá las siguientes atribuciones:\\n```\\n```\\na. Representar legalmente al Grupo ante toda clase de organismos\\npúblicos o privados.\\nb. Convocar, presidir y levantar las sesiones que celebre la Asamblea\\nGeneral y la Junta Directiva.\\nc. Dirigir las deliberaciones de una y otra.\\nd. Ordenar pagos y autorizar con su firma los documentos, actas y\\ncorrespondencia.\\ne. Adoptar cualquier medida urgente que la buena marcha del Grupo\\naconseje, resulte necesaria o conveniente para el desarrollo de sus\\nactividades, dando cuenta posteriormente al Equipo de Kraal. Estas\\nmedidas no pueden entrar en conflicto con las competencias de la\\nAsamblea General.\\n```\\n#### Artículo 59.- Secretaría General\\n\\n```\\nLa Secretaría tendrá a su cargo la dirección de los trabajos puramente\\nadministrativos del Grupo, expedirá certificaciones, llevará los ficheros y\\ncustodiará la documentación de la entidad, remitiendo en su caso las\\ncomunicaciones a la Administración con los requisitos pertinentes.\\n```\\n#### Artículo 60.- Tesorería\\n\\n```\\nLa Tesorería recaudará los fondos pertenecientes al Grupo y dará cumplimiento\\na las órdenes de pago que expida la presidencia. Así como, deberá conocer el\\nestado administrativo del Banco.\\n```\\n\\n```\\nAsociación Grupo Scout Annapurna GSA\\nActualizado 2023\\nAnnapurna 722\\n```\\n#### Artículo 61.- Procedimientos para la elección y sustitución de sus miembros\\n\\n```\\nLa elección de las personas integrantes de la Junta Directiva por la Asamblea\\nGeneral se realizará mediante la presentación de candidaturas, a las que se\\nles garantizará la adecuada difusión, con una antelación de treinta días\\nnaturales a la celebración de la correspondiente reunión. Las propuestas de\\ncandidaturas se realizarán de manera individual y no en bloque.\\n```\\n```\\nLas personas integrantes de la Junta Directiva cesarán:\\n```\\n```\\na. Por transcurso del periodo de sus mandatos\\nb. Por renuncia expresa\\nc. Por acuerdo de la Asamblea General\\nd. Por expulsión del Equipo de Kraal, lo que conlleva la expulsión del\\nGrupo.\\n```\\n#### Artículo 62.- Proceso electoral\\n\\n```\\n62.1.- Requisitos para ser elegible:\\na. Ser parte del equipo de Kraal.\\nb. Ser mayor de edad.\\nc. Ser una persona asociada del grupo.\\nd. No haber sido elegido previamente el mismo cargo durante al\\nmenos una candidatura.\\n```\\n```\\n62.2.- Plazo de presentación de candidaturas.\\nTras declarar abierto el plazo para la presentación de candidaturas, este\\nfinalizará 30 días antes de la fecha señalada para la Asamblea General\\nen que se producirá la elección de la nueva Ejecutiva.\\n```\\n\\n```\\nAsociación Grupo Scout Annapurna GSA\\nActualizado 2023\\nAnnapurna 722\\n```\\n### SECCIÓN CUARTA: COMISIONES DE LA ASOCIACIÓN\\n\\n#### Artículo 63.- Definición\\n\\n```\\nSon aquellos grupos de trabajo compuestos por cualquier persona asociada del\\nGrupo o sus representantes legales. Estos equipos funcionan como órganos\\nde consulta y propuesta, acerca del funcionamiento del grupo o sobre las\\nactividades que se realizan, pero las decisiones finales las toma el Equipo de\\nKraal.\\n```\\n```\\nLas comisiones actuales son las siguientes:\\n```\\n```\\na. Las Comisiones Juveniles de Grupo.\\nb. Los Consejos de Jóvenes.\\nc. Los Consejos de Familias.\\nd. El Consejo de Promesa.\\n```\\n#### Artículo 64.- Composición\\n\\n```\\nEstos grupos de trabajo están formados por personas socias educandas o sus\\nrepresentantes legales, personas socias educadoras y personas socias de\\nhonor del Grupo, que estén interesadas en participar de las diferentes\\ncomisiones y consejos juveniles.\\n```\\n```\\nLas comisiones estarán dirigidas y coordinadas por el Kraal, a excepción de las\\ncomisiones juveniles de Grupo, que serán coordinadas y dirigidas por\\nmiembros elegidos por cada equipo.\\n```\\n\\n```\\nAsociación Grupo Scout Annapurna GSA\\nActualizado 2023\\nAnnapurna 722\\n```\\n#### Artículo 65.- Funciones\\n\\n```\\n65.1.- Las comisiones juveniles de Grupo tienen las siguientes atribuciones:\\na. Proponer actividades adaptadas a cada etapa en las que se\\ntraten temas de interés de las educandas/os.\\nb. Actuar como órgano de consulta para el Equipo de Kraal.\\n```\\n```\\n65.2.- El Consejo de Jóvenes:\\na. Responder a las consultas que organiza el Equipo de Kraal en\\nlos Buenos Días, realizando propuestas según corresponda.\\n```\\n```\\n65.3.- El Consejo de Familias:\\na. Responder a las consultas que organiza el Equipo de Kraal,\\nrealizando propuestas según corresponda.\\nb. Este consejo se llevará a cabo en las reuniones de familias y\\n```\\nAsambleas Generales Ordinarias.^\\n\\n```\\n65.4.- El Consejo de Promesa:\\na. Responder a las consultas que organiza el Equipo de Kraal,\\nrealizando propuestas según corresponda.\\nb. Atender a las propuestas de nuevas promesas o renovaciones\\nen cada campamento.\\n```\\n```\\nSiempre que cualquiera de las comisiones proponga una actividad a una\\nsección del Grupo, primero deberá ser aprobada por el Kraalete de dicha\\nsección. Si una actividad se propone para todo el grupo deberá ser aprobada\\npor consenso del Equipo de Kraal.\\n```\\n\\nAsociación Grupo Scout Annapurna GSA\\nActualizado 2023\\nAnnapurna 722\\n\\n\\n```\\nAsociación Grupo Scout Annapurna GSA\\nActualizado 2023\\nAnnapurna 722\\n```\\n## CAPÍTULO IV. DE LA SIMBOLOGÍA Y LA UNIFORMIDAD\\n\\n#### Artículo 66.- Uniformes y distintivos\\n\\n```\\n66.1.- Uniformes. Los elementos del uniforme del Grupo son:\\na. El Pañuelo Scout: Es de tela roja con ribete verde. Se otorga a las\\npersonas educandas tras realizar la promesa correspondiente a cada\\nsección. Existe la variante del pañuelo sin ribete que se usa en la\\nsección de Castores. Las personas educandas sólo podrán llevar este\\nuniforme si cuentan con la promesa de la sección en la que se\\nencuentran. El Pañuelo Scout se ha de llevar durante la celebración de\\ntodo evento relacionado con el Grupo o el escultismo.\\nb. La camiseta de grupo: Tras asistir a un campamento, cada persona\\neducanda y cada persona educadora recibirá una camiseta de color\\ncorrespondiente a la sección en la que se encuentren, en caso de que\\nno la tuvieran anteriormente. Este uniforme se ha de llevar para las\\nceremonias de Grupo y Buenos Días de trimestres.\\nc. La camisa federativa de ASDE: Es un uniforme adicional, de carácter\\nopcional en actividades del Grupo, pudiendo sustituir a la camiseta de\\ngrupo en eventos federativos.\\n```\\n```\\n66.2.- Durante las ceremonias de Grupo se establece el siguiente mínimo de etiqueta:\\na. Se deberá usar calzado cerrado, absteniéndose de usar calzado estilo\\nchancla.\\nb. Se deberá llevar la cara y la cabeza descubierta.\\nc. Se deberá vestir con ropa adecuada, haciendo uso de pantalones o\\nfaldas; absteniéndose de usar bañadores, mostrando prendas interiores\\ny/o pijamas.\\nd. No se podrá ir en bañador ni mostrar prendas interiores ni el pijama,\\nllevando pantalones o falda.\\n```\\n\\n```\\nAsociación Grupo Scout Annapurna GSA\\nActualizado 2023\\nAnnapurna 722\\n```\\n```\\nTodos estos requerimientos quedan sujetos a excepciones por motivos de\\ncredo religioso o por otra causa de fuerza mayor. Todas las personas socias\\nque dispongan del Pañuelo Scout por progreso personal/promesa deberán\\nllevarla.\\n```\\n66.3.- Durante los buenos días y buenas tardes se establece el siguiente mínimo de\\netiqueta:\\na. Se deberá usar calzado cerrado, absteniéndose de usar calzado estilo\\nchancla.\\nb. Se deberá llevar la cara y la cabeza descubierta.\\nc. Se deberá vestir con ropa adecuada, haciendo uso de pantalones o\\nfaldas; absteniéndose de usar bañadores, mostrando prendas interiores\\ny/o pijamas.\\nd. Se deberá llevar el torso cubierto.\\nTodos estos requerimientos quedan sujetos a excepciones por motivos de\\ncredo religioso o por otra causa de fuerza mayor. Todos los/as socios/as que\\ndispongan del pañuelo por progreso personal/promesa deberán llevarla.\\n\\n\\n```\\nAsociación Grupo Scout Annapurna GSA\\nActualizado 2023\\nAnnapurna 722\\n```\\n## CAPÍTULO V. DEL RÉGIMEN DISCIPLINARIO\\n\\n#### Artículo 67.- Normas\\n\\n```\\nEl artículo 67 se adscribe al documento de normas de organización y funcionamiento.\\n```\\n#### Artículo 68.- De las infracciones\\n\\n```\\nSe consideran infracciones y por tanto actos sancionables:\\n```\\n```\\na. El incumplimiento de los Estatutos, Reglamentos y Normas del Grupo.\\nb. El incumplimiento de las Normas y Reglamentos vigentes en materia de\\nconformidad con la legislación.\\nc. La falta de cumplimiento de los acuerdos de Consejos, Asambleas o del Equipo\\nde Kraal o cualquier órgano que represente la voluntad mayoritaria.\\nd. Los ataques injuriosos y/o calumniosos contra uno o varios miembros del\\nGrupo, sus órganos o sus estructuras.\\ne. El abuso de confianza en el desempeño de las funciones que le fueron\\nconfiadas o por atribuírselas sin habérselas confiado.\\nf. Cuantos sean contrarios o notoriamente atentatorios contra los Fines y\\nPrincipios del Escultismo.\\ng. No atender los compromisos financieros con el Grupo, siempre que no medie\\nacuerdo a tal efecto.\\nh. No presentar la documentación requerida en tiempo y forma, siempre que no\\nmedie acuerdo a tal efecto.\\ni. No atender las obligaciones de participar en las reuniones del Equipo de Kraal,\\nen los términos establecidos en este Reglamento.\\nj. Incumplimiento reiterado o intencionado de las normas enumeradas en el\\nartículo 67 de este Reglamento de Régimen Interno.\\nk. En caso de incumplimiento del punto f del Artículo 14 se deberá abonar la\\ntotalidad del importe de dicha formación en un plazo de un año. En caso de que\\n```\\n\\n```\\nAsociación Grupo Scout Annapurna GSA\\nActualizado 2023\\nAnnapurna 722\\n```\\n```\\nla persona incumpla el plazo de pago el Grupo podrá incurrir en acciones\\nlegales.\\n```\\n```\\nEstos actos sancionables tendrán la consideración de faltas leves, moderadas o\\ngraves, teniendo en cuenta para ello el posible daño a miembros del Grupo, a la\\nimagen pública del Grupo, ASDE Exploradores de Madrid, Scouts de España o del\\nEscultismo, o a la trascendencia interna o externa de los hechos.\\n```\\n#### Artículo 69.- Tipos de faltas\\n\\n```\\n69.1.- Se considerarán faltas leves aquellas por las que el normal funcionamiento de\\nlas actividades y/o administración del Grupo se vea afectado de manera leve,\\n```\\nsin suponer una falta sobre los principios del Escultismo o la legislación vigente.^\\n\\n```\\n69.2.- Se considerarán faltas moderadas aquellas por las que el normal\\nfuncionamiento de las actividades y/o administración del Grupo se vea afectado\\nde manera moderada o severa, acorde al criterio del Equipo de Kraal, sin\\nsuponer una falta sobre los principios del Escultismo o la legislación vigente.\\n```\\n```\\n69.3.- Se considerarán faltas graves aquellas por las que se incurra en un\\nincumplimiento de la normativa que provoque un déficit operativo en el\\nfuncionamiento del Grupo y/o que, además, suponga una falta sobre los\\nprincipios del Escultismo o la legislación vigente.\\n```\\n\\n```\\nAsociación Grupo Scout Annapurna GSA\\nActualizado 2023\\nAnnapurna 722\\n```\\n#### Artículo 70.- De las sanciones\\n\\n```\\nLas sanciones irán acorde al tipo de falta cometida y al pensamiento del Equipo de\\nKraal:\\n```\\n```\\na. Apercibimiento privado.\\nb. Apercibimiento público en Asamblea General.\\nc. Suspensión de la participación en actividades de Grupo.\\nd. Suspensión de la condición de persona socia de tres meses a dos años.\\ne. Inhabilitación temporal para ejercer determinados cargos.\\nf. Expulsión del Grupo.\\ng. Correctivos aplicables a jóvenes educandas.\\nh. Aplicación de normas más severas, acordes al artículo 67.\\ni. Pago de posibles costes derivados de las consecuencias de la falta cometida.\\n```\\n#### Artículo 71.- Aplicación de sanciones..................................................................................\\n\\n```\\n71.1.- Faltas leves:\\na. Apercibimiento privado.\\nb. Apercibimiento público en Asamblea General.\\nc. Correctivos aplicables a jóvenes educandas que deberán ajustarse a\\nlos patrones definidos en el documento de Normas de organización y\\nfuncionamiento.\\n```\\n```\\n71.2.- Faltas moderadas:\\na. Suspensión de la participación en actividades de Grupo, por decisión\\ndel Consejo de Kraal. Esta suspensión podría tener una duración\\nmáxima de 90 días.\\nb. Inhabilitación temporal para ejercer determinados cargos, propuesto\\npor socios por imposición de la Asamblea General.\\nc. Aplicación de normas más severas, acordes al artículo 69.\\n```\\n\\n```\\nAsociación Grupo Scout Annapurna GSA\\nActualizado 2023\\nAnnapurna 722\\n```\\n```\\n71.3.- Faltas graves:\\na. Suspensión de la condición de persona socia de tres meses a dos años,\\na propuesta del Equipo de Kraal y por imposición de la Asamblea\\nGeneral. Una persona asociada externa al Equipo de Kraal podrá\\nexponer la suspensión de la condición de socia ante dicho consejo, para\\nsu evaluación y posible propuesta.\\nb. Expulsión del Grupo, a propuesta del Equipo de Kraal y por imposición\\nde la Asamblea General. Siendo la máxima sanción que se puede\\nimponer en el Grupo, serán causa de expulsión aquellas faltas graves\\nque sean incompatibles con los Fines y Principios del Escultismo o las\\nreiteradamente atentatorias contra personas socias del Grupo, la\\nimagen pública del Grupo, ASDE Exploradores de Madrid, Scouts de\\nEspaña o del Escultismo.\\nc. Pago de posibles costes derivados de las consecuencias de la falta\\ncometida con relación a posibles enajenaciones de materiales, daños a\\nestos, indemnizaciones o franquicias que no estén cubiertas por los\\nseguros contratados por el Grupo. También incluirá posibles\\nreembolsos de gastos a raíz de formaciones o cursos ofertados a la\\npersona socia infractora.\\n```\\n#### Artículo 72.- Procedimiento\\n\\n```\\n72.1.- En el caso de una falta leve a consecuencia de un hecho u omisión, las\\nsanciones podrán ser aplicadas en el momento, sin necesidad de ser\\nconsensuadas por el Equipo de Kraal. Esta sanción podrá ser aplicada por\\nmínimo una persona del Equipo de Kraal siempre y cuando no sea parte de\\neste el que cometió dicha falta. Una vez aplicada la sanción, esta deberá ser\\npuesta en conocimiento del Equipo de Kraal con un plazo máximo de\\nveinticuatro horas.\\n```\\n```\\n72.2.- Conocido un hecho u omisión que pudiera constituir una falta moderada o\\ngrave, y por ello una infracción disciplinaria, deberá ponerse en conocimiento\\n```\\n\\n```\\nAsociación Grupo Scout Annapurna GSA\\nActualizado 2023\\nAnnapurna 722\\n```\\n```\\ndel Equipo de Kraal en un periodo máximo de veinticuatro horas, quienes\\ndespués de analizar los datos, iniciarán el proceso de sanción.\\n```\\n```\\n72.3.- Si la sanción incluye la participación de la Asamblea General, la decisión\\npodrá ser recurrida, aplicándose las disposiciones y procedimientos en caso\\nde conflicto.\\n```\\n#### Artículo 73.- Otras disposiciones disciplinarias\\n\\n```\\n73.1.- En cualquier caso, y si hubiese habido fraude o empleo indebido de fondos,\\nla sanción conllevará inmediatamente la consiguiente indemnización al\\nGrupo.\\n```\\n```\\n73.2.- En todo caso, se deberá informar de inmediato al Grupo, si se iniciaran o\\ntramitaran diligencias policiales o judiciales por infracciones penales\\ncometidas en el curso de las actividades.\\n```\\n\\nAsociación Grupo Scout Annapurna GSA\\nActualizado 2023\\nAnnapurna 722\\n\\n\\n```\\nAsociación Grupo Scout Annapurna GSA\\nActualizado 2023\\nAnnapurna 722\\n```\\n## DISPOSICIONES ADICIONALES\\n\\n### SECCIÓN PRIMERA. INTERPRETACIÓN DEL PRESENTE\\n\\n#### Artículo 74.- Interpretación y subsidiariedad de normas\\n\\n```\\nLa interpretación del presente Reglamento de Régimen Interno y de sus\\nnormas complementarias corresponde al Equipo de Kraal, pudiendo las\\npersonas socias adoptar interpretaciones provisionales cuando se considere\\nimprescindible hasta la siguiente reunión del Equipo de Kraal.\\n```\\n\\nAsociación Grupo Scout Annapurna GSA\\nActualizado 2023\\nAnnapurna 722\\n\\n\\n```\\nAsociación Grupo Scout Annapurna GSA\\nActualizado 2023\\nAnnapurna 722\\n```\\n## DISPOSICIÓN DEROGATORIA\\n\\n### SECCIÓN PRIMERA. DEROGACIÓN DEL ANTERIOR\\n\\n#### Artículo 75.- Derogación del anterior y rango.....................................................................\\n\\n```\\nEste Reglamento de Régimen Interno deroga al anterior y tiene rango superior\\na todos los demás documentos a excepción de los Estatutos.\\n```\\n\\nAsociación Grupo Scout Annapurna GSA\\nActualizado 2023\\nAnnapurna 722\\n\\n\\n```\\nAsociación Grupo Scout Annapurna GSA\\nActualizado 2023\\nAnnapurna 722\\n```\\n## DISPOSICIÓN FINAL............................................................................................................\\n\\n## SECCIÓN PRIMERA. ENTRADA EN VIGOR Y REVISIÓN\\n\\n### Artículo 76.- Entrada en vigor.\\n\\n```\\nEl presente Reglamento de Régimen Interno entrará en vigor a partir del día\\nsiguiente a su aprobación por la Asamblea General.\\n```\\n### Artículo 77.- Revisión del documento\\n\\n```\\nEl presente Reglamento de Régimen Interno se revisará cada 6 años como\\nmáximo.\\n```\\n\\n'"
      ]
     },
     "execution_count": 9,
     "metadata": {},
     "output_type": "execute_result"
    }
   ],
   "source": [
    "def read_md_file(file_path):\n",
    "    try:\n",
    "        with open(file_path, 'r', encoding='utf-8') as file:\n",
    "            md_content = file.read()\n",
    "        return md_content\n",
    "    except FileNotFoundError:\n",
    "        print(\"El archivo no fue encontrado.\")\n",
    "        return None\n",
    "\n",
    "# Ejemplo de uso\n",
    "md_string = read_md_file(input_path)\n",
    "md_string"
   ]
  },
  {
   "cell_type": "code",
   "execution_count": 10,
   "metadata": {},
   "outputs": [
    {
     "name": "stdout",
     "output_type": "stream",
     "text": [
      "{'source': 'Reglamento de Regimen Interno (2023)', 'capitulo': 'CAPÍTULO I. ASOCIACIÓN ÍNDICE', 'articulo': 'Artículo 1.- Definición:...........................................................................................................'}\n",
      "{'source': 'Reglamento de Regimen Interno (2023)', 'capitulo': 'CAPÍTULO I. ASOCIACIÓN ÍNDICE', 'articulo': 'Artículo 2.- Régimen Jurídico'}\n",
      "{'source': 'Reglamento de Regimen Interno (2023)', 'capitulo': 'CAPÍTULO I. ASOCIACIÓN ÍNDICE', 'articulo': 'Artículo 3.- Objetivos y fines'}\n",
      "{'source': 'Reglamento de Regimen Interno (2023)', 'capitulo': 'CAPÍTULO I. ASOCIACIÓN ÍNDICE', 'articulo': 'Artículo 4.- Actividades'}\n",
      "{'source': 'Reglamento de Regimen Interno (2023)', 'capitulo': 'CAPÍTULO I. ASOCIACIÓN ÍNDICE', 'articulo': 'Artículo 5.- Colaboración con otras entidades.'}\n",
      "{'source': 'Reglamento de Regimen Interno (2023)', 'capitulo': 'CAPÍTULO I. ASOCIACIÓN ÍNDICE', 'articulo': 'Artículo 6.- Principios'}\n",
      "{'source': 'Reglamento de Regimen Interno (2023)', 'capitulo': 'CAPÍTULO I. ASOCIACIÓN ÍNDICE', 'articulo': 'Artículo 7- La Ley Scout'}\n",
      "{'source': 'Reglamento de Regimen Interno (2023)', 'capitulo': 'CAPÍTULO I. ASOCIACIÓN ÍNDICE', 'articulo': 'Artículo 8.- La Promesa Scout'}\n",
      "{'source': 'Reglamento de Regimen Interno (2023)', 'capitulo': 'CAPÍTULO I. ASOCIACIÓN ÍNDICE', 'articulo': 'Artículo 9.- Sistema de Programas'}\n",
      "{'source': 'Reglamento de Regimen Interno (2023)', 'capitulo': 'CAPÍTULO I. ASOCIACIÓN ÍNDICE', 'articulo': 'Artículo 10.- Del ámbito territorial'}\n",
      "{'source': 'Reglamento de Regimen Interno (2023)', 'capitulo': 'CAPÍTULO I. ASOCIACIÓN ÍNDICE', 'articulo': 'Artículo 11.- Del domicilio social'}\n",
      "{'source': 'Reglamento de Regimen Interno (2023)', 'capitulo': 'CAPÍTULO II. DE LAS PERSONAS ASOCIADAS', 'seccion': 'SECCIÓN PRIMERA: PERSONAS SOCIAS EDUCADORAS', 'articulo': 'Artículo 12.- Definición'}\n",
      "{'source': 'Reglamento de Regimen Interno (2023)', 'capitulo': 'CAPÍTULO II. DE LAS PERSONAS ASOCIADAS', 'seccion': 'SECCIÓN PRIMERA: PERSONAS SOCIAS EDUCADORAS', 'articulo': 'Artículo 13.- Proceso de incorporación'}\n",
      "{'source': 'Reglamento de Regimen Interno (2023)', 'capitulo': 'CAPÍTULO II. DE LAS PERSONAS ASOCIADAS', 'seccion': 'SECCIÓN PRIMERA: PERSONAS SOCIAS EDUCADORAS', 'articulo': 'Artículo 14.- Derechos de las personas socias educadoras'}\n",
      "{'source': 'Reglamento de Regimen Interno (2023)', 'capitulo': 'CAPÍTULO II. DE LAS PERSONAS ASOCIADAS', 'seccion': 'SECCIÓN PRIMERA: PERSONAS SOCIAS EDUCADORAS', 'articulo': 'Artículo 15.- Deberes de las personas socias educadoras'}\n",
      "{'source': 'Reglamento de Regimen Interno (2023)', 'capitulo': 'CAPÍTULO II. DE LAS PERSONAS ASOCIADAS', 'seccion': 'SECCIÓN SEGUNDA: PERSONAS SOCIAS EDUCANDAS', 'articulo': 'Artículo 16.- Definición'}\n",
      "{'source': 'Reglamento de Regimen Interno (2023)', 'capitulo': 'CAPÍTULO II. DE LAS PERSONAS ASOCIADAS', 'seccion': 'SECCIÓN SEGUNDA: PERSONAS SOCIAS EDUCANDAS', 'articulo': 'Artículo 17.- Proceso de incorporación'}\n",
      "{'source': 'Reglamento de Regimen Interno (2023)', 'capitulo': 'CAPÍTULO II. DE LAS PERSONAS ASOCIADAS', 'seccion': 'SECCIÓN SEGUNDA: PERSONAS SOCIAS EDUCANDAS', 'articulo': 'Artículo 18.- Derechos de las personas socias educandas'}\n",
      "{'source': 'Reglamento de Regimen Interno (2023)', 'capitulo': 'CAPÍTULO II. DE LAS PERSONAS ASOCIADAS', 'seccion': 'SECCIÓN SEGUNDA: PERSONAS SOCIAS EDUCANDAS', 'articulo': 'Artículo 19.- Deberes de las personas socias educandas'}\n",
      "{'source': 'Reglamento de Regimen Interno (2023)', 'capitulo': 'CAPÍTULO II. DE LAS PERSONAS ASOCIADAS', 'seccion': 'SECCIÓN TERCERA: PERSONAS SOCIAS DE HONOR', 'articulo': 'Artículo 20.- Definición'}\n",
      "{'source': 'Reglamento de Regimen Interno (2023)', 'capitulo': 'CAPÍTULO II. DE LAS PERSONAS ASOCIADAS', 'seccion': 'SECCIÓN TERCERA: PERSONAS SOCIAS DE HONOR', 'articulo': 'Artículo 21.- Nombramiento'}\n",
      "{'source': 'Reglamento de Regimen Interno (2023)', 'capitulo': 'CAPÍTULO II. DE LAS PERSONAS ASOCIADAS', 'seccion': 'SECCIÓN TERCERA: PERSONAS SOCIAS DE HONOR', 'articulo': 'Artículo 22.- Derechos de las personas socias de honor.....................................................'}\n",
      "{'source': 'Reglamento de Regimen Interno (2023)', 'capitulo': 'CAPÍTULO II. DE LAS PERSONAS ASOCIADAS', 'seccion': 'SECCIÓN TERCERA: PERSONAS SOCIAS DE HONOR', 'articulo': 'Artículo 23.- Deberes de las personas socias de honor'}\n",
      "{'source': 'Reglamento de Regimen Interno (2023)', 'capitulo': 'CAPÍTULO II. DE LAS PERSONAS ASOCIADAS', 'seccion': 'SECCIÓN CUARTA: DE LA PÉRDIDA O SUSPENSIÓN DE LA CONDICIÓN DE PERSONA ASOCIADA', 'articulo': 'Artículo 24.- Pérdida de la condición de persona asociada'}\n",
      "{'source': 'Reglamento de Regimen Interno (2023)', 'capitulo': 'CAPÍTULO II. DE LAS PERSONAS ASOCIADAS', 'seccion': 'SECCIÓN CUARTA: DE LA PÉRDIDA O SUSPENSIÓN DE LA CONDICIÓN DE PERSONA ASOCIADA', 'articulo': 'Artículo 25.- Suspensión de la condición de persona asociada'}\n",
      "{'source': 'Reglamento de Regimen Interno (2023)', 'capitulo': 'CAPÍTULO III. DEL GRUPO.', 'articulo': 'Artículo 26.- Órganos del grupo'}\n",
      "{'source': 'Reglamento de Regimen Interno (2023)', 'capitulo': 'CAPÍTULO III. DEL GRUPO.', 'articulo': 'Artículo 27.- Otras estructuras organizativas'}\n",
      "{'source': 'Reglamento de Regimen Interno (2023)', 'capitulo': 'CAPÍTULO III. DEL GRUPO.', 'seccion': 'SECCIÓN PRIMERA: DE LA ASAMBLEA GENERAL', 'articulo': 'Artículo 28.- Definición'}\n",
      "{'source': 'Reglamento de Regimen Interno (2023)', 'capitulo': 'CAPÍTULO III. DEL GRUPO.', 'seccion': 'SECCIÓN PRIMERA: DE LA ASAMBLEA GENERAL', 'articulo': 'Artículo 29.- Funciones y competencias'}\n",
      "{'source': 'Reglamento de Regimen Interno (2023)', 'capitulo': 'CAPÍTULO III. DEL GRUPO.', 'seccion': 'SECCIÓN PRIMERA: DE LA ASAMBLEA GENERAL', 'articulo': 'Artículo 30.- Composición de la Asamblea General'}\n",
      "{'source': 'Reglamento de Regimen Interno (2023)', 'capitulo': 'CAPÍTULO III. DEL GRUPO.', 'seccion': 'SECCIÓN PRIMERA: DE LA ASAMBLEA GENERAL', 'articulo': 'Artículo 31.- Designación de delegaciones y procedimiento de acreditación'}\n",
      "{'source': 'Reglamento de Regimen Interno (2023)', 'capitulo': 'CAPÍTULO III. DEL GRUPO.', 'seccion': 'SECCIÓN PRIMERA: DE LA ASAMBLEA GENERAL', 'articulo': 'Artículo 32.- Sobre la delegación de voto'}\n",
      "{'source': 'Reglamento de Regimen Interno (2023)', 'capitulo': 'CAPÍTULO III. DEL GRUPO.', 'seccion': 'SECCIÓN PRIMERA: DE LA ASAMBLEA GENERAL', 'articulo': 'Artículo 33.- De las personas invitadas'}\n",
      "{'source': 'Reglamento de Regimen Interno (2023)', 'capitulo': 'CAPÍTULO III. DEL GRUPO.', 'seccion': 'SECCIÓN PRIMERA: DE LA ASAMBLEA GENERAL', 'articulo': 'Artículo 34.- De la convocatoria'}\n",
      "{'source': 'Reglamento de Regimen Interno (2023)', 'capitulo': 'CAPÍTULO III. DEL GRUPO.', 'seccion': 'SECCIÓN PRIMERA: DE LA ASAMBLEA GENERAL', 'articulo': 'Artículo 35.- Constitución'}\n",
      "{'source': 'Reglamento de Regimen Interno (2023)', 'capitulo': 'CAPÍTULO III. DEL GRUPO.', 'seccion': 'SECCIÓN PRIMERA: DE LA ASAMBLEA GENERAL', 'articulo': 'Artículo 36.- La Mesa de la Asamblea'}\n",
      "{'source': 'Reglamento de Regimen Interno (2023)', 'capitulo': 'CAPÍTULO III. DEL GRUPO.', 'seccion': 'SECCIÓN PRIMERA: DE LA ASAMBLEA GENERAL', 'articulo': 'Artículo 37.- Funciones de la Mesa de la Asamblea'}\n",
      "{'source': 'Reglamento de Regimen Interno (2023)', 'capitulo': 'CAPÍTULO III. DEL GRUPO.', 'seccion': 'SECCIÓN PRIMERA: DE LA ASAMBLEA GENERAL', 'articulo': 'Artículo 38.- Orden del Día'}\n",
      "{'source': 'Reglamento de Regimen Interno (2023)', 'capitulo': 'CAPÍTULO III. DEL GRUPO.', 'seccion': 'SECCIÓN PRIMERA: DE LA ASAMBLEA GENERAL', 'articulo': 'Artículo 39.- Desarrollo de los debates'}\n",
      "{'source': 'Reglamento de Regimen Interno (2023)', 'capitulo': 'CAPÍTULO III. DEL GRUPO.', 'seccion': 'SECCIÓN PRIMERA: DE LA ASAMBLEA GENERAL', 'articulo': 'Artículo 40.- Debate de propuestas articuladas'}\n",
      "{'source': 'Reglamento de Regimen Interno (2023)', 'capitulo': 'CAPÍTULO III. DEL GRUPO.', 'seccion': 'SECCIÓN PRIMERA: DE LA ASAMBLEA GENERAL', 'articulo': 'Artículo 41.- Uso de la palabra'}\n",
      "{'source': 'Reglamento de Regimen Interno (2023)', 'capitulo': 'CAPÍTULO III. DEL GRUPO.', 'seccion': 'SECCIÓN PRIMERA: DE LA ASAMBLEA GENERAL', 'articulo': 'Artículo 42.- Alusiones'}\n",
      "{'source': 'Reglamento de Regimen Interno (2023)', 'capitulo': 'CAPÍTULO III. DEL GRUPO.', 'seccion': 'SECCIÓN PRIMERA: DE LA ASAMBLEA GENERAL', 'articulo': 'Artículo 43.- Cuestión de Orden'}\n",
      "{'source': 'Reglamento de Regimen Interno (2023)', 'capitulo': 'CAPÍTULO III. DEL GRUPO.', 'seccion': 'SECCIÓN PRIMERA: DE LA ASAMBLEA GENERAL', 'articulo': 'Artículo 44.- De la moción de censura'}\n",
      "{'source': 'Reglamento de Regimen Interno (2023)', 'capitulo': 'CAPÍTULO III. DEL GRUPO.', 'seccion': 'SECCIÓN PRIMERA: DE LA ASAMBLEA GENERAL', 'articulo': 'Artículo 45.- De las votaciones'}\n",
      "{'source': 'Reglamento de Regimen Interno (2023)', 'capitulo': 'CAPÍTULO III. DEL GRUPO.', 'seccion': 'SECCIÓN PRIMERA: DE LA ASAMBLEA GENERAL', 'articulo': 'Artículo 46.- Procedimiento de votación.'}\n",
      "{'source': 'Reglamento de Regimen Interno (2023)', 'capitulo': 'CAPÍTULO III. DEL GRUPO.', 'seccion': 'SECCIÓN PRIMERA: DE LA ASAMBLEA GENERAL', 'articulo': 'Artículo 47.- De la validez de los acuerdos..........................................................................'}\n",
      "{'source': 'Reglamento de Regimen Interno (2023)', 'capitulo': 'CAPÍTULO III. DEL GRUPO.', 'seccion': 'SECCIÓN PRIMERA: DE LA ASAMBLEA GENERAL', 'articulo': 'Artículo 48.- Recurrir decisiones o sanciones tomadas'}\n",
      "{'source': 'Reglamento de Regimen Interno (2023)', 'capitulo': 'CAPÍTULO III. DEL GRUPO.', 'seccion': 'SECCIÓN SEGUNDA: EL EQUIPO DE KRAAL', 'articulo': 'Artículo 49.- Naturaleza'}\n",
      "{'source': 'Reglamento de Regimen Interno (2023)', 'capitulo': 'CAPÍTULO III. DEL GRUPO.', 'seccion': 'SECCIÓN SEGUNDA: EL EQUIPO DE KRAAL', 'articulo': 'Artículo 50.- Composición'}\n",
      "{'source': 'Reglamento de Regimen Interno (2023)', 'capitulo': 'CAPÍTULO III. DEL GRUPO.', 'seccion': 'SECCIÓN SEGUNDA: EL EQUIPO DE KRAAL', 'articulo': 'Artículo 51.- Reuniones y quórum de constitución y adopción de acuerdos'}\n",
      "{'source': 'Reglamento de Regimen Interno (2023)', 'capitulo': 'CAPÍTULO III. DEL GRUPO.', 'seccion': 'SECCIÓN SEGUNDA: EL EQUIPO DE KRAAL', 'articulo': 'Artículo 52.- Funciones del Equipo de Kraal'}\n",
      "{'source': 'Reglamento de Regimen Interno (2023)', 'capitulo': 'CAPÍTULO III. DEL GRUPO.', 'seccion': 'SECCIÓN SEGUNDA: EL EQUIPO DE KRAAL', 'articulo': 'Artículo 53.- Recurrir decisiones o sanciones tomadas'}\n",
      "{'source': 'Reglamento de Regimen Interno (2023)', 'capitulo': 'CAPÍTULO III. DEL GRUPO.', 'seccion': 'SECCIÓN TERCERA: JUNTA DIRECTIVA', 'articulo': 'Artículo 54.- Naturaleza'}\n",
      "{'source': 'Reglamento de Regimen Interno (2023)', 'capitulo': 'CAPÍTULO III. DEL GRUPO.', 'seccion': 'SECCIÓN TERCERA: JUNTA DIRECTIVA', 'articulo': 'Artículo 55.- Composición'}\n",
      "{'source': 'Reglamento de Regimen Interno (2023)', 'capitulo': 'CAPÍTULO III. DEL GRUPO.', 'seccion': 'SECCIÓN TERCERA: JUNTA DIRECTIVA', 'articulo': 'Artículo 56.- Reuniones y quórum de constitución y adopción de acuerdos'}\n",
      "{'source': 'Reglamento de Regimen Interno (2023)', 'capitulo': 'CAPÍTULO III. DEL GRUPO.', 'seccion': 'SECCIÓN TERCERA: JUNTA DIRECTIVA', 'articulo': 'Artículo 57.- Funciones de la Junta Directiva'}\n",
      "{'source': 'Reglamento de Regimen Interno (2023)', 'capitulo': 'CAPÍTULO III. DEL GRUPO.', 'seccion': 'SECCIÓN TERCERA: JUNTA DIRECTIVA', 'articulo': 'Artículo 58.- Presidencia'}\n",
      "{'source': 'Reglamento de Regimen Interno (2023)', 'capitulo': 'CAPÍTULO III. DEL GRUPO.', 'seccion': 'SECCIÓN TERCERA: JUNTA DIRECTIVA', 'articulo': 'Artículo 59.- Secretaría General'}\n",
      "{'source': 'Reglamento de Regimen Interno (2023)', 'capitulo': 'CAPÍTULO III. DEL GRUPO.', 'seccion': 'SECCIÓN TERCERA: JUNTA DIRECTIVA', 'articulo': 'Artículo 60.- Tesorería'}\n",
      "{'source': 'Reglamento de Regimen Interno (2023)', 'capitulo': 'CAPÍTULO III. DEL GRUPO.', 'seccion': 'SECCIÓN TERCERA: JUNTA DIRECTIVA', 'articulo': 'Artículo 61.- Procedimientos para la elección y sustitución de sus miembros'}\n",
      "{'source': 'Reglamento de Regimen Interno (2023)', 'capitulo': 'CAPÍTULO III. DEL GRUPO.', 'seccion': 'SECCIÓN TERCERA: JUNTA DIRECTIVA', 'articulo': 'Artículo 62.- Proceso electoral'}\n",
      "{'source': 'Reglamento de Regimen Interno (2023)', 'capitulo': 'CAPÍTULO III. DEL GRUPO.', 'seccion': 'SECCIÓN CUARTA: COMISIONES DE LA ASOCIACIÓN', 'articulo': 'Artículo 63.- Definición'}\n",
      "{'source': 'Reglamento de Regimen Interno (2023)', 'capitulo': 'CAPÍTULO III. DEL GRUPO.', 'seccion': 'SECCIÓN CUARTA: COMISIONES DE LA ASOCIACIÓN', 'articulo': 'Artículo 64.- Composición'}\n",
      "{'source': 'Reglamento de Regimen Interno (2023)', 'capitulo': 'CAPÍTULO III. DEL GRUPO.', 'seccion': 'SECCIÓN CUARTA: COMISIONES DE LA ASOCIACIÓN', 'articulo': 'Artículo 65.- Funciones'}\n",
      "{'source': 'Reglamento de Regimen Interno (2023)', 'capitulo': 'CAPÍTULO IV. DE LA SIMBOLOGÍA Y LA UNIFORMIDAD', 'articulo': 'Artículo 66.- Uniformes y distintivos'}\n",
      "{'source': 'Reglamento de Regimen Interno (2023)', 'capitulo': 'CAPÍTULO V. DEL RÉGIMEN DISCIPLINARIO', 'articulo': 'Artículo 67.- Normas'}\n",
      "{'source': 'Reglamento de Regimen Interno (2023)', 'capitulo': 'CAPÍTULO V. DEL RÉGIMEN DISCIPLINARIO', 'articulo': 'Artículo 68.- De las infracciones'}\n",
      "{'source': 'Reglamento de Regimen Interno (2023)', 'capitulo': 'CAPÍTULO V. DEL RÉGIMEN DISCIPLINARIO', 'articulo': 'Artículo 69.- Tipos de faltas'}\n",
      "{'source': 'Reglamento de Regimen Interno (2023)', 'capitulo': 'CAPÍTULO V. DEL RÉGIMEN DISCIPLINARIO', 'articulo': 'Artículo 70.- De las sanciones'}\n",
      "{'source': 'Reglamento de Regimen Interno (2023)', 'capitulo': 'CAPÍTULO V. DEL RÉGIMEN DISCIPLINARIO', 'articulo': 'Artículo 71.- Aplicación de sanciones..................................................................................'}\n",
      "{'source': 'Reglamento de Regimen Interno (2023)', 'capitulo': 'CAPÍTULO V. DEL RÉGIMEN DISCIPLINARIO', 'articulo': 'Artículo 72.- Procedimiento'}\n",
      "{'source': 'Reglamento de Regimen Interno (2023)', 'capitulo': 'CAPÍTULO V. DEL RÉGIMEN DISCIPLINARIO', 'articulo': 'Artículo 73.- Otras disposiciones disciplinarias'}\n",
      "{'source': 'Reglamento de Regimen Interno (2023)', 'capitulo': 'DISPOSICIONES ADICIONALES', 'seccion': 'SECCIÓN PRIMERA. INTERPRETACIÓN DEL PRESENTE', 'articulo': 'Artículo 74.- Interpretación y subsidiariedad de normas'}\n",
      "{'source': 'Reglamento de Regimen Interno (2023)', 'capitulo': 'DISPOSICIÓN DEROGATORIA', 'seccion': 'SECCIÓN PRIMERA. DEROGACIÓN DEL ANTERIOR', 'articulo': 'Artículo 75.- Derogación del anterior y rango.....................................................................'}\n",
      "{'source': 'Reglamento de Regimen Interno (2023)', 'capitulo': 'SECCIÓN PRIMERA. ENTRADA EN VIGOR Y REVISIÓN', 'seccion': 'Artículo 76.- Entrada en vigor.'}\n",
      "{'source': 'Reglamento de Regimen Interno (2023)', 'capitulo': 'SECCIÓN PRIMERA. ENTRADA EN VIGOR Y REVISIÓN', 'seccion': 'Artículo 77.- Revisión del documento'}\n"
     ]
    }
   ],
   "source": [
    "from langchain.text_splitter import MarkdownHeaderTextSplitter\n",
    "\n",
    "# headers_to_split_on = [\n",
    "#     (\"#\", \"source\"),\n",
    "#     (\"##\", \"capitulo\"),\n",
    "#     (\"###\", \"apartado\"),\n",
    "#     (\"####\", \"subapartado\"),\n",
    "# ]\n",
    "headers_to_split_on = [\n",
    "    (\"#\", \"source\"),\n",
    "    (\"##\", \"capitulo\"),\n",
    "    (\"###\", \"seccion\"),\n",
    "    (\"####\", \"articulo\"),\n",
    "]\n",
    "\n",
    "\n",
    "markdown_splitter = MarkdownHeaderTextSplitter(\n",
    "    headers_to_split_on=headers_to_split_on\n",
    ")\n",
    "splits = markdown_splitter.split_text(md_string)\n",
    "for doc in splits:\n",
    "    print(doc.metadata)"
   ]
  },
  {
   "cell_type": "markdown",
   "metadata": {},
   "source": [
    "## VECTORS"
   ]
  },
  {
   "cell_type": "code",
   "execution_count": 11,
   "metadata": {},
   "outputs": [],
   "source": [
    "from langchain.vectorstores import Chroma\n",
    "from langchain.embeddings import HuggingFaceEmbeddings"
   ]
  },
  {
   "cell_type": "code",
   "execution_count": 12,
   "metadata": {},
   "outputs": [
    {
     "name": "stdout",
     "output_type": "stream",
     "text": [
      "77\n"
     ]
    }
   ],
   "source": [
    "vectordb = Chroma(persist_directory=output_path, embedding_function=HuggingFaceEmbeddings())\n",
    "print(vectordb._collection.count())"
   ]
  },
  {
   "cell_type": "code",
   "execution_count": 13,
   "metadata": {},
   "outputs": [],
   "source": [
    "vectordb = Chroma.from_documents(\n",
    "    documents=splits,\n",
    "    embedding=HuggingFaceEmbeddings(),\n",
    "    persist_directory=output_path\n",
    ")"
   ]
  },
  {
   "cell_type": "code",
   "execution_count": 14,
   "metadata": {},
   "outputs": [
    {
     "name": "stdout",
     "output_type": "stream",
     "text": [
      "154\n"
     ]
    }
   ],
   "source": [
    "print(vectordb._collection.count())"
   ]
  },
  {
   "cell_type": "markdown",
   "metadata": {},
   "source": [
    "## CLASE"
   ]
  },
  {
   "cell_type": "code",
   "execution_count": null,
   "metadata": {},
   "outputs": [],
   "source": [
    "# input_path = \"pipeline_files/2_transcribed_audio/gestion_de_requisitos_con_Redmine.json\"\n",
    "input_path = \"pipeline_files/2_transcribed_audio_coffee\"\n",
    "# output_path = \"pipeline_files/3_vectordb\"\n",
    "output_path = \"pipeline_files/3_vectordb_coffee\"\n",
    "chunk_duration = 10 # in seconds\n",
    "reset_db = True"
   ]
  },
  {
   "cell_type": "code",
   "execution_count": null,
   "metadata": {},
   "outputs": [],
   "source": [
    "import json\n",
    "from langchain.docstore.document import Document\n",
    "from langchain.vectorstores import Chroma\n",
    "from langchain.embeddings import HuggingFaceEmbeddings\n",
    "import os\n",
    "import shutil\n",
    "import torch\n",
    "\n",
    "\n",
    "class VectorDBGenerator:\n",
    "    def __init__(self, output_path, reset_db=True):\n",
    "        self.output_path = output_path\n",
    "        if reset_db:\n",
    "            self.__delete_db()\n",
    "        self.device = \"cuda\" if torch.cuda.is_available() else \"cpu\"\n",
    "        self.embeddings = HuggingFaceEmbeddings()\n",
    "\n",
    "    def generate_vectordb(self, input_path, chunk_duration):\n",
    "        json_data = self.__read_json_file(input_path)\n",
    "        chunks = self.__chunk_aggregator(json_data, chunk_duration)\n",
    "        documents = self.__generate_documents(chunks)\n",
    "        vectordb = self.__generate_vectors(documents)\n",
    "        return vectordb\n",
    "    \n",
    "\n",
    "    def __read_json_file(self, file_path):\n",
    "        with open(file_path, 'r', encoding='utf-8') as file:\n",
    "            data = json.load(file)\n",
    "        return data\n",
    "\n",
    "\n",
    "    def __chunk_aggregator(self, data, chunk_duration):\n",
    "        # duration_chunk, chunk_text, chunk_start, chunk_end = 0, \"\", \"00:00:00,000\", \"00:00:00,000\"\n",
    "        duration_chunk, chunk_text, chunk_start, chunk_end = 0, \"\", \"00:00:00.000\", \"00:00:00.000\"\n",
    "        chunks = []\n",
    "        for el in data:\n",
    "            start = float(self.__time_to_seconds(el[\"start\"]))\n",
    "            end = float(self.__time_to_seconds(el[\"end\"]))\n",
    "            duration_chunk += end - start\n",
    "            # chunk_text += el[\"text\"] + \" \"\n",
    "            chunk_text += el[\"content\"] + \" \"\n",
    "            if duration_chunk >= chunk_duration:\n",
    "                chunk_end = el[\"end\"]\n",
    "                # chunks.append({\"filename\": el[\"filename\"], \"start\": chunk_start, \"end\": chunk_end, \"text\": chunk_text})\n",
    "                chunks.append({\"episode\": el[\"episode\"], \"start\": chunk_start, \"end\": chunk_end, \"content\": chunk_text})\n",
    "                chunk_start = el[\"end\"]\n",
    "                chunk_text = \"\"\n",
    "                duration_chunk = 0\n",
    "        return chunks\n",
    "    \n",
    "    def __time_to_seconds(self, time_str):\n",
    "        time_components = time_str.split(':')\n",
    "        hours = int(time_components[0])\n",
    "        minutes = int(time_components[1])\n",
    "        # seconds, milliseconds = map(float, time_components[2].split(','))\n",
    "        seconds, milliseconds = map(float, time_components[2].split('.'))\n",
    "        total_seconds = hours * 3600 + minutes * 60 + seconds + milliseconds / 1000\n",
    "        return total_seconds\n",
    "    \n",
    "\n",
    "    def __generate_documents(self, data):\n",
    "        splits = []\n",
    "        for el in data:\n",
    "            metadata = {}\n",
    "            # metadata[\"filename\"] = el[\"filename\"]\n",
    "            # metadata[\"start\"] = el[\"start\"]\n",
    "            # metadata[\"end\"] = el[\"end\"]\n",
    "            # doc =  Document(page_content=el[\"text\"], metadata=metadata)\n",
    "            metadata[\"filename\"] = el[\"episode\"]\n",
    "            metadata[\"start\"] = el[\"start\"]\n",
    "            metadata[\"end\"] = el[\"end\"]\n",
    "            doc =  Document(page_content=el[\"content\"], metadata=metadata)\n",
    "            splits.append(doc)\n",
    "        return splits\n",
    "    \n",
    "    def __generate_vectors(self, documents):\n",
    "        vectordb = Chroma.from_documents(\n",
    "            documents=documents,\n",
    "            embedding=self.embeddings,\n",
    "            persist_directory=self.output_path\n",
    "        )\n",
    "        return vectordb\n",
    "    \n",
    "    def __delete_db(self):\n",
    "        if os.path.exists(self.output_path):\n",
    "            shutil.rmtree(self.output_path)\n",
    "        os.makedirs(self.output_path)\n"
   ]
  },
  {
   "cell_type": "code",
   "execution_count": null,
   "metadata": {},
   "outputs": [],
   "source": [
    "# generator = VectorDBGenerator(output_path, reset_db)\n",
    "# if os.path.isdir(input_path):\n",
    "#     for file_name in os.listdir(input_path):\n",
    "#         if file_name.endswith(\".json\"):\n",
    "#             file_path = os.path.join(input_path, file_name)\n",
    "#             generator.generate_vectordb(file_path, chunk_duration)\n",
    "# else:\n",
    "#     generator.generate_vectordb(input_path, chunk_duration)"
   ]
  },
  {
   "cell_type": "code",
   "execution_count": null,
   "metadata": {},
   "outputs": [],
   "source": [
    "from tqdm import tqdm\n",
    "\n",
    "generator = VectorDBGenerator(output_path, reset_db)\n",
    "if os.path.isdir(input_path):\n",
    "    for file_name in tqdm(os.listdir(input_path), desc=\"Processing files\"):\n",
    "        if file_name.endswith(\".json\"):\n",
    "            file_path = os.path.join(input_path, file_name)\n",
    "            generator.generate_vectordb(file_path, chunk_duration)\n",
    "else:\n",
    "    generator.generate_vectordb(input_path, chunk_duration)\n"
   ]
  }
 ],
 "metadata": {
  "kernelspec": {
   "display_name": "venv",
   "language": "python",
   "name": "python3"
  },
  "language_info": {
   "codemirror_mode": {
    "name": "ipython",
    "version": 3
   },
   "file_extension": ".py",
   "mimetype": "text/x-python",
   "name": "python",
   "nbconvert_exporter": "python",
   "pygments_lexer": "ipython3",
   "version": "3.10.11"
  }
 },
 "nbformat": 4,
 "nbformat_minor": 2
}
